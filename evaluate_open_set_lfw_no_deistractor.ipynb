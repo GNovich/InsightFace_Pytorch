{
 "cells": [
  {
   "cell_type": "code",
   "execution_count": 14,
   "metadata": {},
   "outputs": [],
   "source": [
    "import json\n",
    "import numpy as np\n",
    "import pandas as pd\n",
    "import os\n",
    "import math"
   ]
  },
  {
   "cell_type": "code",
   "execution_count": 26,
   "metadata": {},
   "outputs": [],
   "source": [
    "def load_scores(mat_path, n_queries):\n",
    "    mat = np.fromfile(mat_path, dtype=np.float32)[4:]\n",
    "    n_targets = len(mat) // n_queries\n",
    "    return mat.reshape(n_queries, n_targets)    "
   ]
  },
  {
   "cell_type": "code",
   "execution_count": 27,
   "metadata": {},
   "outputs": [],
   "source": [
    "def load_files(expected_rows, mat_path, features_path):\n",
    "    features = json.load(open(features_path))\n",
    "    mat = load_scores(mat_path, expected_rows)\n",
    "    np.fill_diagonal(mat, mat.min() - 1) # self dist is not interesting!\n",
    "    prob_ids = np.array(features['id'])\n",
    "    return mat, prob_ids"
   ]
  },
  {
   "cell_type": "code",
   "execution_count": 28,
   "metadata": {},
   "outputs": [],
   "source": [
    "def dist_fuse(mat_1, mat_2):\n",
    "    return (mat_1 + mat_2) / 2"
   ]
  },
  {
   "cell_type": "code",
   "execution_count": 29,
   "metadata": {},
   "outputs": [],
   "source": [
    "def top1(mat, prob_ids):\n",
    "    \"\"\" \n",
    "        is the target id in the top 1 (not including self image)\n",
    "        (prob_mat assuming diag is nan)\n",
    "        prob_ids are a ground truth of ids ordered probmat and distmat entries\n",
    "    \"\"\"\n",
    "    \n",
    "    top_scores = np.max(mat, axis=1)\n",
    "    top_labels = np.argmax(mat, axis=1) # indices\n",
    "    top_labels = prob_ids[top_labels]\n",
    "    \n",
    "    return top_labels, top_scores"
   ]
  },
  {
   "cell_type": "code",
   "execution_count": 30,
   "metadata": {},
   "outputs": [],
   "source": [
    "def topk(mat, prob_ids, k):\n",
    "    \"\"\" \n",
    "        is the target id in the top 1 (not including self image)\n",
    "        (prob_mat assuming diag is nan)\n",
    "        prob_ids are a ground truth of ids ordered probmat entries\n",
    "    \"\"\"\n",
    "    \n",
    "    out_max_k = -np.partition(-mat, k, axis=1)[:, :k] # best out of distractor set\n",
    "    out_max_labels_k = np.argpartition(-mat, k, axis=1)[:, :k] # best out of distractor set\n",
    "    out_max_labels_k = prob_ids[out_max_labels_k]\n",
    "    \n",
    "    return out_max_labels_k, out_max_k"
   ]
  },
  {
   "cell_type": "code",
   "execution_count": null,
   "metadata": {},
   "outputs": [],
   "source": [
    "def rank1_(mat, prob_ids):\n",
    "    \"\"\" \n",
    "        is the target id in the top 1 (not including self image)\n",
    "        (prob_mat assuming diag is nan)\n",
    "        prob_ids are a ground truth of ids ordered probmat entries\n",
    "    \"\"\"\n",
    "    \n",
    "    n_probs = mat.shape[1]\n",
    "    inf_ = mat.min() - 1\n",
    "    score = 0\n",
    "    n_query = 0 \n",
    "    for query_id in set(prob_ids):\n",
    "        # probes from iden\n",
    "        row_mask = list((query_id == prob_ids))\n",
    "        curr_id_mat = mat[row_mask, :].copy()\n",
    "        \n",
    "        n_id_probs, n_probs_and_one_other = curr_id_mat.shape\n",
    "        query_indices = np.argwhere(row_mask).T[0]\n",
    "        for row_i, col_i in enumerate(query_indices):\n",
    "            # nullify all other cols from indices\n",
    "            col_mask = row_mask.copy()\n",
    "            col_mask[col_i] = False\n",
    "\n",
    "            other_probs_sub = curr_id_mat[: , col_mask].copy()\n",
    "            curr_id_mat[: , col_mask] = inf_\n",
    "\n",
    "            # calc hits\n",
    "            top_hits = np.delete(np.argmax(curr_id_mat, axis=1), row_i ,0)\n",
    "            top_id = prob_ids[top_hits]\n",
    "            score += sum(top_id == query_id)\n",
    "            n_query += len(top_id)\n",
    "            \n",
    "    return score/n_query"
   ]
  },
  {
   "cell_type": "code",
   "execution_count": 32,
   "metadata": {},
   "outputs": [],
   "source": [
    "def open_set_label_and_score(mat, prob_ids):\n",
    "    \"\"\"\n",
    "         What is the 2nd iden for the prob if he is not in set?\n",
    "         What is it's score?\n",
    "    \"\"\"\n",
    "    \n",
    "    indexes = np.unique(prob_ids, return_index=True)[1]  # ids sorted by apperance\n",
    "    id_set = [prob_ids[index] for index in sorted(indexes)]\n",
    "    res_label = []\n",
    "    res_score = []\n",
    "    inf_ = mat.min() - 1\n",
    "    for curr_id in id_set:\n",
    "        # nullify all query cols from indices\n",
    "        row_mask = list(curr_id == prob_ids)\n",
    "        curr_prob_mat = mat[row_mask, :].copy()\n",
    "        curr_prob_mat[: , row_mask] = inf_\n",
    "        \n",
    "        label, scores = top1(curr_prob_mat, prob_ids)\n",
    "        res_label.extend(label)\n",
    "        res_score.extend(scores)\n",
    "    return np.array(res_label), np.array(res_score)"
   ]
  },
  {
   "cell_type": "code",
   "execution_count": 33,
   "metadata": {},
   "outputs": [],
   "source": [
    "def open_set_label_and_score_topk(mat, prob_ids):\n",
    "    \"\"\"\n",
    "         What is the 2nd iden for the prob if he is not in set?\n",
    "         What is it's score?\n",
    "    \"\"\"\n",
    "    \n",
    "    indexes = np.unique(prob_ids, return_index=True)[1]  # ids sorted by apperance\n",
    "    id_set = [prob_ids[index] for index in sorted(indexes)]\n",
    "    res_label = []\n",
    "    res_score = []\n",
    "    inf_ = mat.min() - 1\n",
    "    for curr_id in id_set:\n",
    "        # nullify all query cols from indices\n",
    "        row_mask = list(curr_id == prob_ids)\n",
    "        curr_prob_mat = mat[row_mask, :].copy()\n",
    "        curr_prob_mat[: , row_mask] = inf_\n",
    "        \n",
    "        label, scores = topk(mat, prob_ids, 3)\n",
    "        res_label.append(label)\n",
    "        res_score.append(scores)\n",
    "    return np.vstack(res_label), np.vstack(res_score)"
   ]
  },
  {
   "cell_type": "code",
   "execution_count": 34,
   "metadata": {},
   "outputs": [],
   "source": [
    "def model_agreement(mat_0, mat_1, prob_ids):\n",
    "    open_set_k_labels_0, open_set_k_scores_0  = open_set_label_and_score_topk(mat_0, prob_ids)\n",
    "    open_set_k_labels_1, open_set_k_scores_1 = open_set_label_and_score_topk(mat_1, prob_ids)\n",
    "\n",
    "    a = 0\n",
    "    for row_0, row_1 in zip(open_set_k_labels_0, open_set_k_labels_1):\n",
    "        a+= (len(np.intersect1d(row_0, row_1)) > 0)\n",
    "    b = len(prob_ids)\n",
    "    print('\\n any(2nd,3rd,4th) iden Corr=%0.1f%% \\n' % (100.0*a / b) )"
   ]
  },
  {
   "cell_type": "code",
   "execution_count": 35,
   "metadata": {},
   "outputs": [],
   "source": [
    "def agreement_models(mat_0, mat_1, prob_ids):\n",
    "    print('Agreement model')\n",
    "    top1_labels_0, top1_scores_0 = top1(mat_0, prob_ids)\n",
    "    top1_labels_1, top1_scores_1 = top1(mat_1, prob_ids)\n",
    "\n",
    "    open_set_1st_labels_0, open_set_1st_scores_0  = open_set_label_and_score(mat_0, prob_ids)\n",
    "    open_set_1st_labels_1, open_set_1st_scores_1 = open_set_label_and_score(mat_1, prob_ids)\n",
    "    \n",
    "    a = np.sum((open_set_1st_labels_0 == open_set_1st_labels_1))\n",
    "    b = mat_0.shape[0]\n",
    "    print('2nd iden Corr=%0.1f%%' % (100.0*a / b) )\n",
    "\n",
    "    target_FTRS = [0.0001, 0.01, 0.1, 0.2, 0.3]\n",
    "    thresholds = np.unique(np.concatenate((top1_scores_0,top1_scores_1,\n",
    "                                              open_set_1st_scores_0, open_set_1st_scores_1)))\n",
    "\n",
    "    models_agree = (open_set_1st_labels_0 == open_set_1st_labels_1)\n",
    "    FTRs = [np.sum(models_agree & (open_set_1st_scores_0 > TH) & (open_set_1st_scores_1 > TH)) / b\n",
    "            for TH in thresholds]\n",
    "    \n",
    "    mod_0_corr = (top1_labels_0 == prob_ids)\n",
    "    mod_1_corr = (top1_labels_1 == prob_ids)\n",
    "    TTRs = [np.sum( (top1_scores_0 > TH) &\n",
    "                    (top1_scores_1 > TH) &\n",
    "                     mod_0_corr &\n",
    "                     mod_1_corr ) / b for TH, FTR in zip(thresholds, FTRs)]\n",
    "\n",
    "    for target_FTR in target_FTRS:\n",
    "        if (FTRs[0] <= target_FTR):\n",
    "            print('FTR=%0.1f%%, TTR=%0.1f%%' % (target_FTR * 100, TTRs[0] * 100))\n",
    "            continue\n",
    "        for TH, FTR, TTR in zip(thresholds, FTRs, TTRs):\n",
    "            if math.isclose(FTR, target_FTR, abs_tol = 0.001):\n",
    "                print('FTR=%0.1f%%, TTR=%0.1f%%' % (FTR * 100, TTR * 100))\n",
    "                break\n",
    "        \n",
    "    return np.array(thresholds), np.array(FTRs), np.array(TTRs)"
   ]
  },
  {
   "cell_type": "code",
   "execution_count": 36,
   "metadata": {},
   "outputs": [],
   "source": [
    "def dist_fuse_models(mat_0, mat_1, prob_ids):\n",
    "    print('\\nDist_fuse model')\n",
    "    rank1_0 = rank1_(mat_0, prob_ids)\n",
    "    rank1_1 = rank1_(mat_1, prob_ids)\n",
    "    mat = dist_fuse(mat_0, mat_1)\n",
    "    rank1_fuse = rank1_(mat, prob_ids)\n",
    "    \n",
    "    print('Rank-1:\\n model0:{} \\n model1:{} \\n mean_fuse:{}'.format(rank1_0, rank1_1, rank1_fuse))\n",
    "    \n",
    "    top1_labels, top1_scores = top1(mat, prob_ids)\n",
    "    open_set_1st_labels, open_set_1st_scores = open_set_label_and_score(mat, prob_ids)\n",
    "\n",
    "    target_FTRS = [0.0001, 0.01, 0.1, 0.2, 0.3]\n",
    "    thresholds = np.unique(np.concatenate((top1_scores, open_set_1st_scores)))\n",
    "\n",
    "    FTRs = [np.sum((open_set_1st_scores > TH)) / mat_0 for TH in thresholds]\n",
    "    mod_corr = (top1_labels == prob_ids)\n",
    "    TTRs = [np.sum( (top1_scores > TH) &\n",
    "                     mod_corr) / mat_0.shape[0] for TH, FTR in zip(thresholds, FTRs)]\n",
    "\n",
    "    for target_FTR in target_FTRS:\n",
    "        if (FTRs[0] <= target_FTR):\n",
    "            print('FTR=%0.1f%%, TTR=%0.1f%%' % (target_FTR * 100, TTRs[0] * 100))\n",
    "            continue\n",
    "        for TH, FTR, TTR in zip(thresholds, FTRs, TTRs):\n",
    "            if math.isclose(FTR, target_FTR, abs_tol = 0.001):\n",
    "                print('FTR=%0.1f%%, TTR=%0.1f%%' % (FTR * 100, TTR * 100))\n",
    "                break\n",
    "        \n",
    "    return np.array(thresholds), np.array(FTRs), np.array(TTRs)"
   ]
  },
  {
   "cell_type": "code",
   "execution_count": 37,
   "metadata": {},
   "outputs": [],
   "source": [
    "def get_verification(cmc_path, idx):\n",
    "    cmc = json.load(open(cmc_path))\n",
    "    for TH, acc in zip(*cmc['roc']):\n",
    "        if math.isclose(TH, 1e-6, abs_tol = 1e-6) and TH > 1e-6:\n",
    "            print('Verification %d: %0.4f%%' % (idx, acc))\n",
    "            break"
   ]
  },
  {
   "cell_type": "code",
   "execution_count": 40,
   "metadata": {},
   "outputs": [
    {
     "name": "stdout",
     "output_type": "stream",
     "text": [
      "Agreement model\n",
      "2nd iden Corr=43.4%\n",
      "FTR=0.1%, TTR=26.7%\n",
      "FTR=1.1%, TTR=67.2%\n",
      "FTR=10.1%, TTR=69.0%\n",
      "FTR=20.1%, TTR=69.0%\n",
      "FTR=30.1%, TTR=69.0%\n",
      "\n",
      "Dist_fuse model\n",
      "Rank-1:\n",
      " model0:0.015275495627905441 \n",
      " model1:0.015271367115573574 \n",
      " mean_fuse:0.015275495627905441\n"
     ]
    },
    {
     "ename": "KeyboardInterrupt",
     "evalue": "",
     "output_type": "error",
     "traceback": [
      "\u001b[0;31m---------------------------------------------------------------------------\u001b[0m",
      "\u001b[0;31mKeyboardInterrupt\u001b[0m                         Traceback (most recent call last)",
      "\u001b[0;32m<ipython-input-40-c70aad27ce5d>\u001b[0m in \u001b[0;36m<module>\u001b[0;34m()\u001b[0m\n\u001b[1;32m     12\u001b[0m \u001b[0;34m\u001b[0m\u001b[0m\n\u001b[1;32m     13\u001b[0m \u001b[0mbaseline_thresholds\u001b[0m\u001b[0;34m,\u001b[0m \u001b[0mbaseline_FTRs\u001b[0m\u001b[0;34m,\u001b[0m \u001b[0mbaseline_TTR\u001b[0m \u001b[0;34m=\u001b[0m \u001b[0magreement_models\u001b[0m\u001b[0;34m(\u001b[0m\u001b[0mmat_0\u001b[0m\u001b[0;34m,\u001b[0m \u001b[0mmat_1\u001b[0m\u001b[0;34m,\u001b[0m \u001b[0mprob_ids\u001b[0m\u001b[0;34m)\u001b[0m\u001b[0;34m\u001b[0m\u001b[0m\n\u001b[0;32m---> 14\u001b[0;31m \u001b[0mfuse_baseline_thresholds\u001b[0m\u001b[0;34m,\u001b[0m \u001b[0mfuse_baseline_FTRs\u001b[0m\u001b[0;34m,\u001b[0m \u001b[0mfuse_baseline_TTR\u001b[0m \u001b[0;34m=\u001b[0m \u001b[0mdist_fuse_models\u001b[0m\u001b[0;34m(\u001b[0m\u001b[0mmat_0\u001b[0m\u001b[0;34m,\u001b[0m \u001b[0mmat_1\u001b[0m\u001b[0;34m,\u001b[0m \u001b[0mprob_ids\u001b[0m\u001b[0;34m)\u001b[0m\u001b[0;34m\u001b[0m\u001b[0m\n\u001b[0m",
      "\u001b[0;32m<ipython-input-36-6e1f300f84bc>\u001b[0m in \u001b[0;36mdist_fuse_models\u001b[0;34m(mat_0, mat_1, prob_ids)\u001b[0m\n\u001b[1;32m     14\u001b[0m     \u001b[0mthresholds\u001b[0m \u001b[0;34m=\u001b[0m \u001b[0mnp\u001b[0m\u001b[0;34m.\u001b[0m\u001b[0munique\u001b[0m\u001b[0;34m(\u001b[0m\u001b[0mnp\u001b[0m\u001b[0;34m.\u001b[0m\u001b[0mconcatenate\u001b[0m\u001b[0;34m(\u001b[0m\u001b[0;34m(\u001b[0m\u001b[0mtop1_scores\u001b[0m\u001b[0;34m,\u001b[0m \u001b[0mopen_set_1st_scores\u001b[0m\u001b[0;34m)\u001b[0m\u001b[0;34m)\u001b[0m\u001b[0;34m)\u001b[0m\u001b[0;34m\u001b[0m\u001b[0m\n\u001b[1;32m     15\u001b[0m \u001b[0;34m\u001b[0m\u001b[0m\n\u001b[0;32m---> 16\u001b[0;31m     \u001b[0mFTRs\u001b[0m \u001b[0;34m=\u001b[0m \u001b[0;34m[\u001b[0m\u001b[0mnp\u001b[0m\u001b[0;34m.\u001b[0m\u001b[0msum\u001b[0m\u001b[0;34m(\u001b[0m\u001b[0;34m(\u001b[0m\u001b[0mopen_set_1st_scores\u001b[0m \u001b[0;34m>\u001b[0m \u001b[0mTH\u001b[0m\u001b[0;34m)\u001b[0m\u001b[0;34m)\u001b[0m \u001b[0;34m/\u001b[0m \u001b[0mmat_0\u001b[0m \u001b[0;32mfor\u001b[0m \u001b[0mTH\u001b[0m \u001b[0;32min\u001b[0m \u001b[0mthresholds\u001b[0m\u001b[0;34m]\u001b[0m\u001b[0;34m\u001b[0m\u001b[0m\n\u001b[0m\u001b[1;32m     17\u001b[0m     \u001b[0mmod_corr\u001b[0m \u001b[0;34m=\u001b[0m \u001b[0;34m(\u001b[0m\u001b[0mtop1_labels\u001b[0m \u001b[0;34m==\u001b[0m \u001b[0mprob_ids\u001b[0m\u001b[0;34m)\u001b[0m\u001b[0;34m\u001b[0m\u001b[0m\n\u001b[1;32m     18\u001b[0m     TTRs = [np.sum( (top1_scores > TH) &\n",
      "\u001b[0;32m<ipython-input-36-6e1f300f84bc>\u001b[0m in \u001b[0;36m<listcomp>\u001b[0;34m(.0)\u001b[0m\n\u001b[1;32m     14\u001b[0m     \u001b[0mthresholds\u001b[0m \u001b[0;34m=\u001b[0m \u001b[0mnp\u001b[0m\u001b[0;34m.\u001b[0m\u001b[0munique\u001b[0m\u001b[0;34m(\u001b[0m\u001b[0mnp\u001b[0m\u001b[0;34m.\u001b[0m\u001b[0mconcatenate\u001b[0m\u001b[0;34m(\u001b[0m\u001b[0;34m(\u001b[0m\u001b[0mtop1_scores\u001b[0m\u001b[0;34m,\u001b[0m \u001b[0mopen_set_1st_scores\u001b[0m\u001b[0;34m)\u001b[0m\u001b[0;34m)\u001b[0m\u001b[0;34m)\u001b[0m\u001b[0;34m\u001b[0m\u001b[0m\n\u001b[1;32m     15\u001b[0m \u001b[0;34m\u001b[0m\u001b[0m\n\u001b[0;32m---> 16\u001b[0;31m     \u001b[0mFTRs\u001b[0m \u001b[0;34m=\u001b[0m \u001b[0;34m[\u001b[0m\u001b[0mnp\u001b[0m\u001b[0;34m.\u001b[0m\u001b[0msum\u001b[0m\u001b[0;34m(\u001b[0m\u001b[0;34m(\u001b[0m\u001b[0mopen_set_1st_scores\u001b[0m \u001b[0;34m>\u001b[0m \u001b[0mTH\u001b[0m\u001b[0;34m)\u001b[0m\u001b[0;34m)\u001b[0m \u001b[0;34m/\u001b[0m \u001b[0mmat_0\u001b[0m \u001b[0;32mfor\u001b[0m \u001b[0mTH\u001b[0m \u001b[0;32min\u001b[0m \u001b[0mthresholds\u001b[0m\u001b[0;34m]\u001b[0m\u001b[0;34m\u001b[0m\u001b[0m\n\u001b[0m\u001b[1;32m     17\u001b[0m     \u001b[0mmod_corr\u001b[0m \u001b[0;34m=\u001b[0m \u001b[0;34m(\u001b[0m\u001b[0mtop1_labels\u001b[0m \u001b[0;34m==\u001b[0m \u001b[0mprob_ids\u001b[0m\u001b[0;34m)\u001b[0m\u001b[0;34m\u001b[0m\u001b[0m\n\u001b[1;32m     18\u001b[0m     TTRs = [np.sum( (top1_scores > TH) &\n",
      "\u001b[0;31mKeyboardInterrupt\u001b[0m: "
     ]
    }
   ],
   "source": [
    "# baseline\n",
    "\n",
    "# TODO filter rows with only one iden\n",
    "expected_rows = 13183\n",
    "mat_path = \"results_lfw/base_0/otherFiles/lfw_lfw_base_0.bin\"\n",
    "features_path = \"results_lfw/base_0/otherFiles/lfw_features_base_0\"\n",
    "mat_0, prob_ids = load_files(expected_rows, mat_path, features_path)\n",
    "\n",
    "mat_path = \"results_lfw/base_1/otherFiles/lfw_lfw_base_1.bin\"\n",
    "features_path = \"results_lfw/base_1/otherFiles/lfw_features_base_1\"\n",
    "mat_1, prob_ids = load_files(expected_rows, mat_path, features_path)\n",
    "\n",
    "baseline_thresholds, baseline_FTRs, baseline_TTR = agreement_models(mat_0, mat_1, prob_ids)\n",
    "fuse_baseline_thresholds, fuse_baseline_FTRs, fuse_baseline_TTR = dist_fuse_models(mat_0, mat_1, prob_ids)"
   ]
  },
  {
   "cell_type": "code",
   "execution_count": 147,
   "metadata": {},
   "outputs": [
    {
     "name": "stdout",
     "output_type": "stream",
     "text": [
      "Agreement model\n",
      "2nd iden Corr=47.3%\n",
      "FTR=0.1%, TTR=27.2%\n",
      "FTR=1.1%, TTR=58.4%\n",
      "FTR=10.1%, TTR=89.0%\n",
      "FTR=20.1%, TTR=96.7%\n",
      "FTR=30.1%, TTR=98.9%\n",
      "\n",
      "Dist_fuse model\n",
      "Rank-1:\n",
      " model0:0.8032294677383167 \n",
      " model1:0.8015797600665162 \n",
      " mean_fuse:0.8059283894893825\n",
      "FTR=0.1%, TTR=25.7%\n",
      "FTR=1.1%, TTR=57.4%\n",
      "FTR=10.1%, TTR=87.4%\n",
      "FTR=20.1%, TTR=95.3%\n",
      "FTR=30.1%, TTR=98.7%\n"
     ]
    }
   ],
   "source": [
    "# pearson.5\n",
    "match_path = \"results_lfw/pearson.5_0/matches_facescrub_lfw_funneled_aligned_pearson_13045_1.json\"\n",
    "distractor_mat_path = \"results_lfw/pearson.5_0/otherFiles/facescrub_lfw_funneled_aligned_pearson_13045_1.bin\"\n",
    "prob_mat_path = \"results_lfw/pearson.5_0/otherFiles/facescrub_facescrub_pearson.bin\"\n",
    "features_path = \"results_lfw/pearson.5_0/otherFiles/facescrub_features_pearson\"\n",
    "dist_features_path = \"results_lfw/pearson.5_0/otherFiles/lfw_funneled_aligned_features_pearson_13045_1\"\n",
    "\n",
    "prob_mat_0, distractor_mat_0, prob_ids = load_files(match_path, distractor_mat_path, prob_mat_path, features_path, dist_features_path)\n",
    "\n",
    "match_path = \"results_lfw/pearson.5_1/matches_facescrub_lfw_funneled_aligned_pearson_13045_1.json\"\n",
    "distractor_mat_path = \"results_lfw/pearson.5_1/otherFiles/facescrub_lfw_funneled_aligned_pearson_13045_1.bin\"\n",
    "prob_mat_path = \"results_lfw/pearson.5_1/otherFiles/facescrub_facescrub_pearson.bin\"\n",
    "features_path = \"results_lfw/pearson.5_1/otherFiles/facescrub_features_pearson\"\n",
    "dist_features_path = \"results_lfw/pearson.5_1/otherFiles/lfw_funneled_aligned_features_pearson_13045_1\"\n",
    "\n",
    "prob_mat_1, distractor_mat_1, prob_ids = load_files(match_path, distractor_mat_path, prob_mat_path, features_path, dist_features_path)\n",
    "p5_thresholds, p5_FTRs, p5_TTR = agreement_models(prob_mat_0, distractor_mat_0, prob_mat_1, distractor_mat_1, prob_ids)\n",
    "fuse_p5_thresholds, fuse_p5_FTRs, fuse_p5_TTR = dist_fuse_models(prob_mat_0, distractor_mat_0, prob_mat_1, distractor_mat_1, prob_ids)"
   ]
  },
  {
   "cell_type": "code",
   "execution_count": 148,
   "metadata": {},
   "outputs": [
    {
     "name": "stdout",
     "output_type": "stream",
     "text": [
      "Agreement model\n",
      "2nd iden Corr=39.9%\n",
      "FTR=0.1%, TTR=22.6%\n",
      "FTR=1.1%, TTR=55.0%\n",
      "FTR=10.1%, TTR=88.8%\n",
      "FTR=20.1%, TTR=96.8%\n",
      "FTR=30.1%, TTR=98.8%\n",
      "Rank-1:\n",
      " model0:0.8014807776062082 \n",
      " model1:0.7934829948133191 \n",
      " mean_fuse:0.8028665320505206\n",
      "\n",
      " 2nd iden Corr=39.9% \n",
      "\n",
      "FTR=0.1%, TTR=22.6%\n",
      "FTR=1.1%, TTR=55.0%\n",
      "FTR=10.1%, TTR=88.8%\n",
      "FTR=20.1%, TTR=96.8%\n",
      "FTR=30.1%, TTR=98.8%\n"
     ]
    }
   ],
   "source": [
    "# pearson.75\n",
    "match_path = \"results_lfw/pearson.75_0/matches_facescrub_lfw_funneled_aligned_pearson_13045_1.json\"\n",
    "distractor_mat_path = \"results_lfw/pearson.75_0/otherFiles/facescrub_lfw_funneled_aligned_pearson_13045_1.bin\"\n",
    "prob_mat_path = \"results_lfw/pearson.75_0/otherFiles/facescrub_facescrub_pearson.bin\"\n",
    "features_path = \"results_lfw/pearson.75_0/otherFiles/facescrub_features_pearson\"\n",
    "dist_features_path = \"results_lfw/pearson.75_0/otherFiles/lfw_funneled_aligned_features_pearson_13045_1\"\n",
    "\n",
    "prob_mat_0, distractor_mat_0, prob_ids = load_files(match_path, distractor_mat_path, prob_mat_path, features_path, dist_features_path)\n",
    "\n",
    "match_path = \"results_lfw/pearson.75_1/matches_facescrub_lfw_funneled_aligned_pearson_13045_1.json\"\n",
    "distractor_mat_path = \"results_lfw/pearson.75_1/otherFiles/facescrub_lfw_funneled_aligned_pearson_13045_1.bin\"\n",
    "prob_mat_path = \"results_lfw/pearson.75_1/otherFiles/facescrub_facescrub_pearson.bin\"\n",
    "features_path = \"results_lfw/pearson.75_1/otherFiles/facescrub_features_pearson\"\n",
    "dist_features_path = \"results_lfw/pearson.75_1/otherFiles/lfw_funneled_aligned_features_pearson_13045_1\"\n",
    "\n",
    "prob_mat_1, distractor_mat_1, prob_ids = load_files(match_path, distractor_mat_path, prob_mat_path, features_path, dist_features_path)\n",
    "p75_thresholds, p75_FTRs, p75_TTR = agreement_models(prob_mat_0, distractor_mat_0, prob_mat_1, distractor_mat_1, prob_ids)\n",
    "fuse_p75_thresholds, fuse_p75_FTRs, fuse_p75_TTR = fuse_models(prob_mat_0, distractor_mat_0, prob_mat_1, distractor_mat_1, prob_ids)"
   ]
  },
  {
   "cell_type": "code",
   "execution_count": 149,
   "metadata": {},
   "outputs": [
    {
     "name": "stdout",
     "output_type": "stream",
     "text": [
      "Agreement model\n",
      "2nd iden Corr=36.8%\n",
      "FTR=0.1%, TTR=25.8%\n",
      "FTR=1.1%, TTR=56.0%\n",
      "FTR=10.1%, TTR=88.8%\n",
      "FTR=20.1%, TTR=96.9%\n",
      "FTR=30.1%, TTR=98.8%\n",
      "\n",
      "Dist_fuse model\n",
      "Rank-1:\n",
      " model0:0.7841588470523023 \n",
      " model1:0.7920312520621345 \n",
      " mean_fuse:0.7998508664264692\n",
      "FTR=0.1%, TTR=23.9%\n",
      "FTR=1.1%, TTR=55.5%\n",
      "FTR=10.1%, TTR=87.6%\n",
      "FTR=20.1%, TTR=96.3%\n",
      "FTR=30.1%, TTR=98.6%\n"
     ]
    }
   ],
   "source": [
    "# pearson.9\n",
    "match_path = \"results_lfw/pearson.9_0/matches_facescrub_lfw_funneled_aligned_pearson_13045_1.json\"\n",
    "distractor_mat_path = \"results_lfw/pearson.9_0/otherFiles/facescrub_lfw_funneled_aligned_pearson_13045_1.bin\"\n",
    "prob_mat_path = \"results_lfw/pearson.9_0/otherFiles/facescrub_facescrub_pearson.bin\"\n",
    "features_path = \"results_lfw/pearson.9_0/otherFiles/facescrub_features_pearson\"\n",
    "dist_features_path = \"results_lfw/pearson.9_0/otherFiles/lfw_funneled_aligned_features_pearson_13045_1\"\n",
    "\n",
    "prob_mat_0, distractor_mat_0, prob_ids = load_files(match_path, distractor_mat_path, prob_mat_path, features_path, dist_features_path)\n",
    "\n",
    "match_path = \"results_lfw/pearson.9_1/matches_facescrub_lfw_funneled_aligned_pearson_13045_1.json\"\n",
    "distractor_mat_path = \"results_lfw/pearson.9_1/otherFiles/facescrub_lfw_funneled_aligned_pearson_13045_1.bin\"\n",
    "prob_mat_path = \"results_lfw/pearson.9_1/otherFiles/facescrub_facescrub_pearson.bin\"\n",
    "features_path = \"results_lfw/pearson.9_1/otherFiles/facescrub_features_pearson\"\n",
    "dist_features_path = \"results_lfw/pearson.9_1/otherFiles/lfw_funneled_aligned_features_pearson_13045_1\"\n",
    "\n",
    "prob_mat_1, distractor_mat_1, prob_ids = load_files(match_path, distractor_mat_path, prob_mat_path, features_path, dist_features_path)\n",
    "p9_thresholds, p9_FTRs, p9_TTR = agreement_models(prob_mat_0, distractor_mat_0, prob_mat_1, distractor_mat_1, prob_ids)\n",
    "fuse_p9_thresholds, fuse_p9_FTRs, fuse_p9_TTR = dist_fuse_models(prob_mat_0, distractor_mat_0, prob_mat_1, distractor_mat_1, prob_ids)"
   ]
  },
  {
   "cell_type": "code",
   "execution_count": 150,
   "metadata": {},
   "outputs": [
    {
     "name": "stdout",
     "output_type": "stream",
     "text": [
      "Agreement model\n",
      "2nd iden Corr=53.1%\n",
      "FTR=0.1%, TTR=27.4%\n",
      "FTR=1.1%, TTR=57.0%\n",
      "FTR=10.1%, TTR=88.1%\n",
      "FTR=20.1%, TTR=96.7%\n",
      "FTR=30.1%, TTR=98.9%\n",
      "\n",
      "Dist_fuse model\n",
      "Rank-1:\n",
      " model0:0.7998310699344077 \n",
      " model1:0.799547320214858 \n",
      " mean_fuse:0.802714758944715\n",
      "FTR=0.1%, TTR=24.2%\n",
      "FTR=1.1%, TTR=57.4%\n",
      "FTR=10.1%, TTR=86.6%\n",
      "FTR=20.1%, TTR=95.6%\n",
      "FTR=30.1%, TTR=98.5%\n"
     ]
    }
   ],
   "source": [
    "# mean.1\n",
    "match_path = \"results_lfw/mean.1_0/matches_facescrub_lfw_funneled_aligned_mean_13045_1.json\"\n",
    "distractor_mat_path = \"results_lfw/mean.1_0/otherFiles/facescrub_lfw_funneled_aligned_mean_13045_1.bin\"\n",
    "prob_mat_path = \"results_lfw/mean.1_0/otherFiles/facescrub_facescrub_mean.bin\"\n",
    "features_path = \"results_lfw/mean.1_0/otherFiles/facescrub_features_mean\"\n",
    "dist_features_path = \"results_lfw/mean.1_0/otherFiles/lfw_funneled_aligned_features_mean_13045_1\"\n",
    "\n",
    "prob_mat_0, distractor_mat_0, prob_ids = load_files(match_path, distractor_mat_path, prob_mat_path, features_path, dist_features_path)\n",
    "\n",
    "match_path = \"results_lfw/mean.1_1/matches_facescrub_lfw_funneled_aligned_mean_13045_1.json\"\n",
    "distractor_mat_path = \"results_lfw/mean.1_1/otherFiles/facescrub_lfw_funneled_aligned_mean_13045_1.bin\"\n",
    "prob_mat_path = \"results_lfw/mean.1_1/otherFiles/facescrub_facescrub_mean.bin\"\n",
    "features_path = \"results_lfw/mean.1_1/otherFiles/facescrub_features_mean\"\n",
    "dist_features_path = \"results_lfw/mean.1_1/otherFiles/lfw_funneled_aligned_features_mean_13045_1\"\n",
    "\n",
    "prob_mat_1, distractor_mat_1, prob_ids = load_files(match_path, distractor_mat_path, prob_mat_path, features_path, dist_features_path)\n",
    "m1_thresholds, m1_FTRs, m1_TTR = agreement_models(prob_mat_0, distractor_mat_0, prob_mat_1, distractor_mat_1, prob_ids)\n",
    "fuse_m1_thresholds, fuse_m1_FTRs, fuse_m1_TTR = dist_fuse_models(prob_mat_0, distractor_mat_0, prob_mat_1, distractor_mat_1, prob_ids)"
   ]
  },
  {
   "cell_type": "code",
   "execution_count": 151,
   "metadata": {},
   "outputs": [
    {
     "name": "stdout",
     "output_type": "stream",
     "text": [
      "Agreement model\n",
      "2nd iden Corr=47.3%\n",
      "FTR=0.1%, TTR=25.3%\n",
      "FTR=1.1%, TTR=57.4%\n",
      "FTR=10.1%, TTR=88.7%\n",
      "FTR=20.1%, TTR=96.7%\n",
      "FTR=30.1%, TTR=98.9%\n",
      "\n",
      "Dist_fuse model\n",
      "Rank-1:\n",
      " model0:0.8056974304153304 \n",
      " model1:0.7968352008024178 \n",
      " mean_fuse:0.8053608900502831\n",
      "FTR=0.1%, TTR=22.6%\n",
      "FTR=1.1%, TTR=57.0%\n",
      "FTR=10.1%, TTR=87.3%\n",
      "FTR=20.1%, TTR=95.5%\n",
      "FTR=30.1%, TTR=98.5%\n"
     ]
    }
   ],
   "source": [
    "# mean.25\n",
    "match_path = \"results_lfw/mean.25_0/matches_facescrub_lfw_funneled_aligned_mean_13045_1.json\"\n",
    "distractor_mat_path = \"results_lfw/mean.25_0/otherFiles/facescrub_lfw_funneled_aligned_mean_13045_1.bin\"\n",
    "prob_mat_path = \"results_lfw/mean.25_0/otherFiles/facescrub_facescrub_mean.bin\"\n",
    "features_path = \"results_lfw/mean.25_0/otherFiles/facescrub_features_mean\"\n",
    "dist_features_path = \"results_lfw/mean.25_0/otherFiles/lfw_funneled_aligned_features_mean_13045_1\"\n",
    "\n",
    "prob_mat_0, distractor_mat_0, prob_ids = load_files(match_path, distractor_mat_path, prob_mat_path, features_path, dist_features_path)\n",
    "\n",
    "match_path = \"results_lfw/mean.25_1/matches_facescrub_lfw_funneled_aligned_mean_13045_1.json\"\n",
    "distractor_mat_path = \"results_lfw/mean.25_1/otherFiles/facescrub_lfw_funneled_aligned_mean_13045_1.bin\"\n",
    "prob_mat_path = \"results_lfw/mean.25_1/otherFiles/facescrub_facescrub_mean.bin\"\n",
    "features_path = \"results_lfw/mean.25_1/otherFiles/facescrub_features_mean\"\n",
    "dist_features_path = \"results_lfw/mean.25_1/otherFiles/lfw_funneled_aligned_features_mean_13045_1\"\n",
    "\n",
    "prob_mat_1, distractor_mat_1, prob_ids = load_files(match_path, distractor_mat_path, prob_mat_path, features_path, dist_features_path)\n",
    "m25_thresholds, m25_FTRs, m25_TTR = agreement_models(prob_mat_0, distractor_mat_0, prob_mat_1, distractor_mat_1, prob_ids)\n",
    "fuse_m25_thresholds, fuse_m25_FTRs, fuse_m25_TTR = dist_fuse_models(prob_mat_0, distractor_mat_0, prob_mat_1, distractor_mat_1, prob_ids)"
   ]
  },
  {
   "cell_type": "code",
   "execution_count": 152,
   "metadata": {},
   "outputs": [
    {
     "name": "stdout",
     "output_type": "stream",
     "text": [
      "Agreement model\n",
      "2nd iden Corr=34.9%\n",
      "FTR=0.1%, TTR=23.1%\n",
      "FTR=1.1%, TTR=57.6%\n",
      "FTR=10.1%, TTR=89.3%\n",
      "FTR=20.1%, TTR=96.6%\n",
      "FTR=30.1%, TTR=98.9%\n",
      "\n",
      "Dist_fuse model\n",
      "Rank-1:\n",
      " model0:0.794914941072442 \n",
      " model1:0.8008802840136727 \n",
      " mean_fuse:0.8060537672724393\n",
      "FTR=0.1%, TTR=22.0%\n",
      "FTR=1.1%, TTR=57.4%\n",
      "FTR=10.1%, TTR=86.7%\n",
      "FTR=20.1%, TTR=95.6%\n",
      "FTR=30.1%, TTR=98.5%\n"
     ]
    }
   ],
   "source": [
    "# mean.5\n",
    "match_path = \"results_lfw/mean.5_0/matches_facescrub_lfw_funneled_aligned_mean_13045_1.json\"\n",
    "distractor_mat_path = \"results_lfw/mean.5_0/otherFiles/facescrub_lfw_funneled_aligned_mean_13045_1.bin\"\n",
    "prob_mat_path = \"results_lfw/mean.5_0/otherFiles/facescrub_facescrub_mean.bin\"\n",
    "features_path = \"results_lfw/mean.5_0/otherFiles/facescrub_features_mean\"\n",
    "dist_features_path = \"results_lfw/mean.5_0/otherFiles/lfw_funneled_aligned_features_mean_13045_1\"\n",
    "\n",
    "prob_mat_0, distractor_mat_0, prob_ids = load_files(match_path, distractor_mat_path, prob_mat_path, features_path, dist_features_path)\n",
    "\n",
    "match_path = \"results_lfw/mean.5_1/matches_facescrub_lfw_funneled_aligned_mean_13045_1.json\"\n",
    "distractor_mat_path = \"results_lfw/mean.5_1/otherFiles/facescrub_lfw_funneled_aligned_mean_13045_1.bin\"\n",
    "prob_mat_path = \"results_lfw/mean.5_1/otherFiles/facescrub_facescrub_mean.bin\"\n",
    "features_path = \"results_lfw/mean.5_1/otherFiles/facescrub_features_mean\"\n",
    "dist_features_path = \"results_lfw/mean.5_1/otherFiles/lfw_funneled_aligned_features_mean_13045_1\"\n",
    "\n",
    "prob_mat_1, distractor_mat_1, prob_ids = load_files(match_path, distractor_mat_path, prob_mat_path, features_path, dist_features_path)\n",
    "m5_thresholds, m5_FTRs, m5_TTR = agreement_models(prob_mat_0, distractor_mat_0, prob_mat_1, distractor_mat_1, prob_ids)\n",
    "fuse_m5_thresholds, fuse_m5_FTRs, fuse_m5_TTR = dist_fuse_models(prob_mat_0, distractor_mat_0, prob_mat_1, distractor_mat_1, prob_ids)"
   ]
  },
  {
   "cell_type": "code",
   "execution_count": 102,
   "metadata": {},
   "outputs": [],
   "source": [
    "import matplotlib.pylab as plt\n",
    "import matplotlib\n",
    "%matplotlib inline"
   ]
  },
  {
   "cell_type": "code",
   "execution_count": 158,
   "metadata": {},
   "outputs": [
    {
     "data": {
      "text/plain": [
       "Text(0.5,1,'Open set DIR - Agreement based')"
      ]
     },
     "execution_count": 158,
     "metadata": {},
     "output_type": "execute_result"
    },
    {
     "data": {
      "image/png": "[encoded data removed]",
      "text/plain": [
       "<Figure size 432x288 with 1 Axes>"
      ]
     },
     "metadata": {},
     "output_type": "display_data"
    }
   ],
   "source": [
    "# TODO flip axis?\n",
    "# TODO add a dash line for cieling?\n",
    "plt.plot(p9_FTRs, p9_TTR, label='p.9')\n",
    "plt.plot(p75_FTRs, p75_TTR, label='p.75')\n",
    "plt.plot(p5_FTRs, p5_TTR, label='p.5')\n",
    "\n",
    "plt.plot(m1_FTRs, m1_TTR, label='m.1')\n",
    "plt.plot(m25_FTRs, m25_TTR, label='m.25')\n",
    "plt.plot(m5_FTRs, m5_TTR, label='m.5')\n",
    "\n",
    "plt.plot(baseline_FTRs, baseline_TTR, label='baseline')\n",
    "plt.xlabel('FTR')\n",
    "plt.ylabel('TTR')\n",
    "#plt.ylim([0, .4])\n",
    "plt.xscale('log')\n",
    "#plt.xlim([1e-4, 1e-2])\n",
    "plt.legend()\n",
    "plt.title('Open set DIR - Agreement based')"
   ]
  },
  {
   "cell_type": "code",
   "execution_count": 174,
   "metadata": {},
   "outputs": [
    {
     "data": {
      "text/plain": [
       "Text(0.5,1,'Open set DIR - Agreement based')"
      ]
     },
     "execution_count": 174,
     "metadata": {},
     "output_type": "execute_result"
    },
    {
     "data": {
      "image/png": "[encoded data removed]",
      "text/plain": [
       "<Figure size 432x288 with 1 Axes>"
      ]
     },
     "metadata": {},
     "output_type": "display_data"
    }
   ],
   "source": [
    "# TODO flip axis?\n",
    "# TODO add a dash line for cieling?\n",
    "#plt.plot(fuse_p9_FTRs, fuse_p9_TTR, label='p.9')\n",
    "#plt.plot(fuse_p75_FTRs, fuse_p75_TTR, label='p.75')\n",
    "plt.plot(fuse_p5_FTRs, fuse_p5_TTR, label='p.5')\n",
    "\n",
    "plt.plot(fuse_m1_FTRs, fuse_m1_TTR, label='m.1')\n",
    "plt.plot(fuse_m25_FTRs, fuse_m25_TTR, label='m.25')\n",
    "plt.plot(fuse_m5_FTRs, fuse_m5_TTR, label='m.5')\n",
    "\n",
    "plt.plot(fuse_baseline_FTRs, fuse_baseline_TTR, label='baseline')\n",
    "plt.xlabel('FTR')\n",
    "plt.ylabel('TTR')\n",
    "plt.ylim([0.5, .6])\n",
    "plt.xscale('log')\n",
    "plt.xlim([1e-3, 1e-1])\n",
    "plt.legend()\n",
    "plt.title('Open set DIR - Agreement based')"
   ]
  },
  {
   "cell_type": "code",
   "execution_count": null,
   "metadata": {},
   "outputs": [],
   "source": []
  }
 ],
 "metadata": {
  "kernelspec": {
   "display_name": "Python 3",
   "language": "python",
   "name": "python3"
  }
 },
 "nbformat": 4,
 "nbformat_minor": 2
}
