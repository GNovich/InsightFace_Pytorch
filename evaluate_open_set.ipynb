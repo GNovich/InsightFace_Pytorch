{
 "cells": [
  {
   "cell_type": "code",
   "execution_count": 239,
   "metadata": {},
   "outputs": [],
   "source": [
    "import json\n",
    "import numpy as np\n",
    "import pandas as pd"
   ]
  },
  {
   "cell_type": "code",
   "execution_count": 240,
   "metadata": {},
   "outputs": [],
   "source": [
    "def load_scores(mat_path, matches_path):\n",
    "    n_queries = len(json.load(open(matches_path)))\n",
    "    mat = np.fromfile(mat_path, dtype=np.float32)[4:]\n",
    "    n_targets = len(mat) // n_queries\n",
    "    return mat.reshape(n_queries, n_targets)    "
   ]
  },
  {
   "cell_type": "code",
   "execution_count": null,
   "metadata": {},
   "outputs": [],
   "source": [
    "def load_files(match_path, distractor_mat_path, prob_mat_path, features_path):\n",
    "    prob_features = json.load(open(features_path))\n",
    "    distractor_mat = load_scores(distractor_mat_path, match_path)\n",
    "    prob_mat = load_scores(prob_mat_path, match_path)\n",
    "    np.fill_diagonal(prob_mat, prob_mat.min() - 1) # self dist is not interesting!\n",
    "    prob_ids = np.array(prob_features['id'])\n",
    "    return prob_mat, distractor_mat, prob_ids"
   ]
  },
  {
   "cell_type": "code",
   "execution_count": null,
   "metadata": {},
   "outputs": [],
   "source": [
    "def dist_fuse(mat_1, mat_2):\n",
    "    return (mat_1 + mat_2) / 2"
   ]
  },
  {
   "cell_type": "code",
   "execution_count": 373,
   "metadata": {},
   "outputs": [],
   "source": [
    "match_path = \"results/2020-02-15/matches_facescrub_megaface_2020-02-15_1000000_1.json\"\n",
    "distractor_mat_path = \"results/2020-02-15/otherFiles/facescrub_megaface_2020-02-15_1000000_1.bin\"\n",
    "prob_mat_path = \"results/2020-02-15/otherFiles/facescrub_facescrub_2020-02-15.bin\"\n",
    "features_path = \"results/2020-02-15/otherFiles/facescrub_features_2020-02-15\"\n",
    "\n",
    "prob_features = json.load(open(features_path))\n",
    "distractor_mat = load_scores(distractor_mat_path, match_path)\n",
    "prob_mat = load_scores(prob_mat_path, match_path)\n",
    "np.fill_diagonal(prob_mat, prob_mat.min() - 1) # self dist is not interesting!\n",
    "tot_mat = np.concatenate((prob_mat, distractor_mat), axis=1)\n",
    "prob_ids = np.array(prob_features['id'])"
   ]
  },
  {
   "cell_type": "code",
   "execution_count": 214,
   "metadata": {},
   "outputs": [],
   "source": [
    "def get_gallary():\n",
    "    samples = pd.DataFrame([prob_ids, np.arange(len(prob_ids))]).T.groupby(0).apply(lambda x: x.sample(frac=.5).index[0]).sort_values()\n",
    "    return samples.values, samples.index"
   ]
  },
  {
   "cell_type": "code",
   "execution_count": 374,
   "metadata": {
    "scrolled": false
   },
   "outputs": [
    {
     "data": {
      "text/plain": [
       "0.9674149740665954"
      ]
     },
     "execution_count": 374,
     "metadata": {},
     "output_type": "execute_result"
    }
   ],
   "source": [
    "rank1_(prob_mat, distractor_mat, prob_ids)"
   ]
  },
  {
   "cell_type": "code",
   "execution_count": null,
   "metadata": {},
   "outputs": [],
   "source": [
    "def rank1_scores(prob_mat, distractor_mat, prob_ids):\n",
    "    \"\"\" \n",
    "        is the target id in the top 1 (not including self image)\n",
    "        (prob_mat assuming diag is nan)\n",
    "        prob_ids are a ground truth of ids ordered probmat entries\n",
    "    \"\"\"\n",
    "    \n",
    "    out_max = np.max(distractor_mat, axis=1) # best out of distractor set\n",
    "    np.fill_diagonal(prob_mat, prob_mat.min() - 1)\n",
    "    tot_mat = np.concatenate((prob_mat, out_max.reshape(3506, 1)), axis=1) # working with a small matrix :)\n",
    "    return np.max(tot_mat, axis=1)"
   ]
  },
  {
   "cell_type": "code",
   "execution_count": 371,
   "metadata": {},
   "outputs": [],
   "source": [
    "def rank1_(prob_mat, distractor_mat, prob_ids):\n",
    "    \"\"\" \n",
    "        is the target id in the top 1 (not including self image)\n",
    "        (prob_mat assuming diag is nan)\n",
    "        prob_ids are a ground truth of ids ordered probmat entries\n",
    "    \"\"\"\n",
    "    \n",
    "    out_max = np.max(distractor_mat, axis=1) # best out of distractor set\n",
    "    tot_mat = np.concatenate((prob_mat, out_max.reshape(3506, 1)), axis=1) # working with a small matrix :)\n",
    "    n_probs = prob_mat.shape[1]\n",
    "    inf_ = tot_mat.min() - 1\n",
    "    score = 0\n",
    "    n_query = 0 \n",
    "    for query_id in set(prob_ids):\n",
    "        # probes from iden\n",
    "        row_mask = list((query_id == prob_ids))\n",
    "        curr_id_mat = tot_mat[row_mask, :]\n",
    "        \n",
    "        n_id_probs, n_probs_and_one_other = curr_id_mat.shape\n",
    "        query_indices = np.argwhere(row_mask).T[0]\n",
    "        for row_i, col_i in enumerate(query_indices):\n",
    "            # nullify all other cols from indices\n",
    "            col_mask = row_mask.copy()\n",
    "            col_mask[col_i] = False\n",
    "            col_mask.append(False)\n",
    "\n",
    "            other_probs_sub = curr_id_mat[: , col_mask].copy()\n",
    "            curr_id_mat[: , col_mask] = inf_\n",
    "\n",
    "            # calc hits\n",
    "            top_hits = np.delete(np.argmax(curr_id_mat, axis=1), row_i ,0)\n",
    "            top_id = np.where(top_hits < n_probs, top_hits, 0)\n",
    "            top_id = np.where(top_hits < n_probs, prob_ids[top_id], 'NaN')\n",
    "            score += sum(top_id == query_id)\n",
    "            n_query += len(top_id)\n",
    "\n",
    "            # get them back\n",
    "            curr_id_mat[:, col_mask] = other_probs_sub\n",
    "            \n",
    "    return score/n_query"
   ]
  },
  {
   "cell_type": "code",
   "execution_count": 380,
   "metadata": {},
   "outputs": [],
   "source": [
    "def rank10_(prob_mat, distractor_mat, prob_ids):\n",
    "    \"\"\" \n",
    "        is the target id in the top 1 (not including self image)\n",
    "        (prob_mat assuming diag is nan)\n",
    "        prob_ids are a ground truth of ids ordered probmat entries\n",
    "    \"\"\"\n",
    "    \n",
    "    tot_mat = np.concatenate((prob_mat, distractor_mat), axis=1) # working with a small matrix :)\n",
    "    n_probs = prob_mat.shape[1]\n",
    "    inf_ = tot_mat.min() - 1\n",
    "    score = 0\n",
    "    n_query = 0 \n",
    "    for query_id in set(prob_ids):\n",
    "        # probes from iden\n",
    "        row_mask = list((query_id == prob_ids))\n",
    "        curr_id_mat = tot_mat[row_mask, :]\n",
    "        \n",
    "        n_id_probs, n_probs_and_one_other = curr_id_mat.shape\n",
    "        query_indices = np.argwhere(row_mask).T[0]\n",
    "        for row_i, col_i in enumerate(query_indices):\n",
    "            # nullify all other cols from indices\n",
    "            col_mask = row_mask.copy()\n",
    "            col_mask[col_i] = False\n",
    "            col_mask.extend([False]*distractor_mat.shape[1])\n",
    "\n",
    "            other_probs_sub = curr_id_mat[: , col_mask].copy()\n",
    "            curr_id_mat[: , col_mask] = inf_\n",
    "\n",
    "            # calc hits\n",
    "            top_hits = np.argpartition(curr_id_mat, -10, axis=1)[:, -10:]\n",
    "            # top hit might be wrong\n",
    "            top_correct = np.where(top_hits < len(prob_ids), top_hits, np.nan).astype(np.int)\n",
    "            # TODO from here\n",
    "            score += sum([np.isin(true_id, prob_ids[top_hit_row]) for top_hit_row,true_id in zip(top_correct, prob_ids)])\n",
    "            n_query += len(top_id)\n",
    "\n",
    "            # get them back\n",
    "            curr_id_mat[:, col_mask] = other_probs_sub\n",
    "            \n",
    "    return score/n_query"
   ]
  },
  {
   "cell_type": "code",
   "execution_count": 76,
   "metadata": {},
   "outputs": [],
   "source": [
    "def rank10(tot_mat, prob_ids):\n",
    "    \"\"\"\n",
    "        is the target id in the top 10 (not including self image)\n",
    "        prob_mat assuming diag is nan\n",
    "        prob_ids are a ground truth of ids ordered probmat entries\n",
    "    \"\"\"\n",
    "    \n",
    "    # works great from here do not touch :)\n",
    "    top_hits = np.argpartition(tot_mat, -10, axis=1)[:, -10:]\n",
    "    # top hit might be wrong\n",
    "    top_correct = np.where(top_hits < len(prob_ids), top_hits, np.nan).astype(np.int)\n",
    "    return sum([np.isin(true_id, prob_ids[top_hit_row]) for top_hit_row,true_id in zip(top_correct, prob_ids)]) / len(prob_ids)"
   ]
  },
  {
   "cell_type": "code",
   "execution_count": 381,
   "metadata": {},
   "outputs": [
    {
     "ename": "IndexError",
     "evalue": "index -9223372036854775808 is out of bounds for axis 0 with size 3506",
     "output_type": "error",
     "traceback": [
      "\u001b[0;31m---------------------------------------------------------------------------\u001b[0m",
      "\u001b[0;31mIndexError\u001b[0m                                Traceback (most recent call last)",
      "\u001b[0;32m<ipython-input-381-99821ea5f3fa>\u001b[0m in \u001b[0;36m<module>\u001b[0;34m()\u001b[0m\n\u001b[0;32m----> 1\u001b[0;31m \u001b[0mrank10_\u001b[0m\u001b[0;34m(\u001b[0m\u001b[0mprob_mat\u001b[0m\u001b[0;34m,\u001b[0m \u001b[0mdistractor_mat\u001b[0m\u001b[0;34m,\u001b[0m \u001b[0mnp\u001b[0m\u001b[0;34m.\u001b[0m\u001b[0marray\u001b[0m\u001b[0;34m(\u001b[0m\u001b[0mprob_features\u001b[0m\u001b[0;34m[\u001b[0m\u001b[0;34m'id'\u001b[0m\u001b[0;34m]\u001b[0m\u001b[0;34m)\u001b[0m\u001b[0;34m)\u001b[0m\u001b[0;34m\u001b[0m\u001b[0m\n\u001b[0m",
      "\u001b[0;32m<ipython-input-380-48b535b311b6>\u001b[0m in \u001b[0;36mrank10_\u001b[0;34m(prob_mat, distractor_mat, prob_ids)\u001b[0m\n\u001b[1;32m     31\u001b[0m             \u001b[0;31m# top hit might be wrong\u001b[0m\u001b[0;34m\u001b[0m\u001b[0;34m\u001b[0m\u001b[0m\n\u001b[1;32m     32\u001b[0m             \u001b[0mtop_correct\u001b[0m \u001b[0;34m=\u001b[0m \u001b[0mnp\u001b[0m\u001b[0;34m.\u001b[0m\u001b[0mwhere\u001b[0m\u001b[0;34m(\u001b[0m\u001b[0mtop_hits\u001b[0m \u001b[0;34m<\u001b[0m \u001b[0mlen\u001b[0m\u001b[0;34m(\u001b[0m\u001b[0mprob_ids\u001b[0m\u001b[0;34m)\u001b[0m\u001b[0;34m,\u001b[0m \u001b[0mtop_hits\u001b[0m\u001b[0;34m,\u001b[0m \u001b[0mnp\u001b[0m\u001b[0;34m.\u001b[0m\u001b[0mnan\u001b[0m\u001b[0;34m)\u001b[0m\u001b[0;34m.\u001b[0m\u001b[0mastype\u001b[0m\u001b[0;34m(\u001b[0m\u001b[0mnp\u001b[0m\u001b[0;34m.\u001b[0m\u001b[0mint\u001b[0m\u001b[0;34m)\u001b[0m\u001b[0;34m\u001b[0m\u001b[0m\n\u001b[0;32m---> 33\u001b[0;31m             \u001b[0mscore\u001b[0m \u001b[0;34m+=\u001b[0m \u001b[0msum\u001b[0m\u001b[0;34m(\u001b[0m\u001b[0;34m[\u001b[0m\u001b[0mnp\u001b[0m\u001b[0;34m.\u001b[0m\u001b[0misin\u001b[0m\u001b[0;34m(\u001b[0m\u001b[0mtrue_id\u001b[0m\u001b[0;34m,\u001b[0m \u001b[0mprob_ids\u001b[0m\u001b[0;34m[\u001b[0m\u001b[0mtop_hit_row\u001b[0m\u001b[0;34m]\u001b[0m\u001b[0;34m)\u001b[0m \u001b[0;32mfor\u001b[0m \u001b[0mtop_hit_row\u001b[0m\u001b[0;34m,\u001b[0m\u001b[0mtrue_id\u001b[0m \u001b[0;32min\u001b[0m \u001b[0mzip\u001b[0m\u001b[0;34m(\u001b[0m\u001b[0mtop_correct\u001b[0m\u001b[0;34m,\u001b[0m \u001b[0mprob_ids\u001b[0m\u001b[0;34m)\u001b[0m\u001b[0;34m]\u001b[0m\u001b[0;34m)\u001b[0m\u001b[0;34m\u001b[0m\u001b[0m\n\u001b[0m\u001b[1;32m     34\u001b[0m             \u001b[0mn_query\u001b[0m \u001b[0;34m+=\u001b[0m \u001b[0mlen\u001b[0m\u001b[0;34m(\u001b[0m\u001b[0mtop_id\u001b[0m\u001b[0;34m)\u001b[0m\u001b[0;34m\u001b[0m\u001b[0m\n\u001b[1;32m     35\u001b[0m \u001b[0;34m\u001b[0m\u001b[0m\n",
      "\u001b[0;32m<ipython-input-380-48b535b311b6>\u001b[0m in \u001b[0;36m<listcomp>\u001b[0;34m(.0)\u001b[0m\n\u001b[1;32m     31\u001b[0m             \u001b[0;31m# top hit might be wrong\u001b[0m\u001b[0;34m\u001b[0m\u001b[0;34m\u001b[0m\u001b[0m\n\u001b[1;32m     32\u001b[0m             \u001b[0mtop_correct\u001b[0m \u001b[0;34m=\u001b[0m \u001b[0mnp\u001b[0m\u001b[0;34m.\u001b[0m\u001b[0mwhere\u001b[0m\u001b[0;34m(\u001b[0m\u001b[0mtop_hits\u001b[0m \u001b[0;34m<\u001b[0m \u001b[0mlen\u001b[0m\u001b[0;34m(\u001b[0m\u001b[0mprob_ids\u001b[0m\u001b[0;34m)\u001b[0m\u001b[0;34m,\u001b[0m \u001b[0mtop_hits\u001b[0m\u001b[0;34m,\u001b[0m \u001b[0mnp\u001b[0m\u001b[0;34m.\u001b[0m\u001b[0mnan\u001b[0m\u001b[0;34m)\u001b[0m\u001b[0;34m.\u001b[0m\u001b[0mastype\u001b[0m\u001b[0;34m(\u001b[0m\u001b[0mnp\u001b[0m\u001b[0;34m.\u001b[0m\u001b[0mint\u001b[0m\u001b[0;34m)\u001b[0m\u001b[0;34m\u001b[0m\u001b[0m\n\u001b[0;32m---> 33\u001b[0;31m             \u001b[0mscore\u001b[0m \u001b[0;34m+=\u001b[0m \u001b[0msum\u001b[0m\u001b[0;34m(\u001b[0m\u001b[0;34m[\u001b[0m\u001b[0mnp\u001b[0m\u001b[0;34m.\u001b[0m\u001b[0misin\u001b[0m\u001b[0;34m(\u001b[0m\u001b[0mtrue_id\u001b[0m\u001b[0;34m,\u001b[0m \u001b[0mprob_ids\u001b[0m\u001b[0;34m[\u001b[0m\u001b[0mtop_hit_row\u001b[0m\u001b[0;34m]\u001b[0m\u001b[0;34m)\u001b[0m \u001b[0;32mfor\u001b[0m \u001b[0mtop_hit_row\u001b[0m\u001b[0;34m,\u001b[0m\u001b[0mtrue_id\u001b[0m \u001b[0;32min\u001b[0m \u001b[0mzip\u001b[0m\u001b[0;34m(\u001b[0m\u001b[0mtop_correct\u001b[0m\u001b[0;34m,\u001b[0m \u001b[0mprob_ids\u001b[0m\u001b[0;34m)\u001b[0m\u001b[0;34m]\u001b[0m\u001b[0;34m)\u001b[0m\u001b[0;34m\u001b[0m\u001b[0m\n\u001b[0m\u001b[1;32m     34\u001b[0m             \u001b[0mn_query\u001b[0m \u001b[0;34m+=\u001b[0m \u001b[0mlen\u001b[0m\u001b[0;34m(\u001b[0m\u001b[0mtop_id\u001b[0m\u001b[0;34m)\u001b[0m\u001b[0;34m\u001b[0m\u001b[0m\n\u001b[1;32m     35\u001b[0m \u001b[0;34m\u001b[0m\u001b[0m\n",
      "\u001b[0;31mIndexError\u001b[0m: index -9223372036854775808 is out of bounds for axis 0 with size 3506"
     ]
    }
   ],
   "source": [
    "rank10_(prob_mat, distractor_mat, np.array(prob_features['id']))"
   ]
  },
  {
   "cell_type": "code",
   "execution_count": null,
   "metadata": {},
   "outputs": [],
   "source": [
    "def open_set_label_and_score(tot_mat, prob_ids):\n",
    "    \"\"\"\n",
    "         What is the 2nd iden for the prob if he is not in set?\n",
    "         What is it's score?\n",
    "    \"\"\"\n",
    "    # works great from here do not touch :)\n",
    "    trail = tot_mat.shape[1]-len(prob_ids)\n",
    "    id_set = set(prob_ids)\n",
    "    res_label = []\n",
    "    res_score = []\n",
    "    inf_ = tot_mat.min() - 1\n",
    "    for curr_id in id_set:\n",
    "        id_mask = (prob_ids == curr_id)\n",
    "        curr_queries = tot_mat[id_mask]\n",
    "        curr_queries[:, np.concatenate((id_mask, np.zeros(trail).astype(bool)))] = inf_\n",
    "        \n",
    "        top_scores_for_id_queries = np.max(curr_queries, axis=1)\n",
    "        top_hits_for_id_queries = np.argmax(curr_queries, axis=1)\n",
    "        top_correct = np.where(top_hits_for_id_queries < len(prob_ids), top_hits_for_id_queries, 0)\n",
    "        top_2nd_probe_id_or_none = np.where(top_hits_for_id_queries < len(prob_ids), top_correct, np.nan).astype(np.int)\n",
    "        res_label.extend(top_2nd_probe_id_or_none)\n",
    "        res_score.extend(top_scores_for_id_queries)\n",
    "    return res_label, res_score"
   ]
  },
  {
   "cell_type": "code",
   "execution_count": null,
   "metadata": {},
   "outputs": [],
   "source": [
    "def open_set_label_and_score_(prob_mat, distractor_mat, prob_ids):\n",
    "    \"\"\"\n",
    "         What is the 2nd iden for the prob if he is not in set?\n",
    "         What is it's score?\n",
    "    \"\"\"\n",
    "    open_best_score = np.max(distractor_mat, axis=1)\n",
    "    open_best_ind = np.argmax(distractor_mat, axis=1)\n",
    "    tot_mat = np.concatenate((prob_mat, out_max.reshape(3506, 1)), axis=1) # working with a small matrix :)\n",
    "    \n",
    "    id_set = set(prob_ids)\n",
    "    res_label = []\n",
    "    res_score = []\n",
    "    inf_ = tot_mat.min() - 1\n",
    "    for curr_id in id_set:\n",
    "        # probes from iden\n",
    "        row_mask = list((curr_id == prob_ids))\n",
    "        curr_id_mat = tot_mat[row_mask, :]\n",
    "        \n",
    "        n_id_probs, n_probs_and_one_other = curr_id_mat.shape\n",
    "        query_indices = np.argwhere(row_mask).T[0]\n",
    "\n",
    "        # nullify all query cols from indices\n",
    "        col_mask = row_mask.copy()\n",
    "        col_mask.append(False)\n",
    "\n",
    "        other_probs_sub = curr_id_mat[: , col_mask].copy()\n",
    "        curr_id_mat[: , col_mask] = inf_\n",
    "\n",
    "        # calc hits\n",
    "        top_hits = np.argmax(curr_id_mat, axis=1)\n",
    "        top_hits = np.argmax(curr_id_mat, axis=1)\n",
    "        top_id = np.where(top_hits < n_probs, top_hits, 0)\n",
    "        top_id = np.where(top_hits < n_probs, prob_ids[top_id], open_best_ind)\n",
    "        \n",
    "        \n",
    "        # get them back\n",
    "        curr_id_mat[:, col_mask] = other_probs_sub\n",
    "\n",
    "\n",
    "\n",
    "        id_mask = list((prob_ids == curr_id))\n",
    "        curr_queries = tot_mat[id_mask]\n",
    "        curr_queries[:, np.concatenate((id_mask, np.zeros(trail).astype(bool)))] = inf_\n",
    "        \n",
    "        top_scores_for_id_queries = np.max(curr_queries, axis=1)\n",
    "        top_hits_for_id_queries = np.argmax(curr_queries, axis=1)\n",
    "        top_correct = np.where(top_hits_for_id_queries < len(prob_ids), top_hits_for_id_queries, 0)\n",
    "        top_2nd_probe_id_or_none = np.where(top_hits_for_id_queries < len(prob_ids), top_correct, np.nan).astype(np.int)\n",
    "        res_label.extend(top_2nd_probe_id_or_none)\n",
    "        res_score.extend(top_scores_for_id_queries)\n",
    "    return res_label, res_score"
   ]
  },
  {
   "cell_type": "code",
   "execution_count": null,
   "metadata": {},
   "outputs": [],
   "source": [
    "labels, scores = open_set_label_and_score(tot_mat, np.array(prob_features['id']))"
   ]
  },
  {
   "cell_type": "code",
   "execution_count": null,
   "metadata": {},
   "outputs": [],
   "source": [
    "# TODO open set correlations between 2 models\n",
    "\"\"\"\n",
    "    for m1 in range(modelsNb):\n",
    "        for m2 in range(m1+1, modelsNb):\n",
    "            a = np.sum((open_set_1st_labels[m1] == open_set_1st_labels[m2]))\n",
    "            b = len(query_label[0])\n",
    "            print('Corr=', model_names[m1], model_names[m2], a, b, a/b)\n",
    "\"\"\""
   ]
  },
  {
   "cell_type": "code",
   "execution_count": null,
   "metadata": {},
   "outputs": [],
   "source": [
    "def fuse_models(probe_mat_0, distractor_mat_0, probe_mat1, distractor_mat_1, prob_ids):\n",
    "    top1_scores_0 = top1_scores(probe_mat_0, distractor_mat_0, prob_ids)\n",
    "    top1_scores_1 = top1_scores(probe_mat_1, distractor_mat_1, prob_ids)\n",
    "    \n",
    "    open_set_1st_labels_0, open_set_1st_scores_0  = open_set_label_and_score(probe_mat_0, distractor_mat_0, prob_ids)\n",
    "    open_set_1st_labels_1, open_set_1st_scores_1 = open_set_label_and_score(probe_mat_1, distractor_mat_1, prob_ids)\n",
    "    \n",
    "    a = np.sum((open_set_1st_labels_0 == open_set_1st_labels_1))\n",
    "    b = len(prob_ids)\n",
    "    print('  Corr=%0.1f%%' % (100.0*a / b) )\n",
    "\n",
    "    for target_FTR in target_FTRS:\n",
    "        for TH in np.arange(0.3, 0.9, 0.00001):\n",
    "            FTR = np.sum((open_set_1st_labels[m] == open_set_1st_labels[m+1]) & (open_set_1st_scores[m] > TH) & (open_set_1st_scores[m+1] > TH)) / b\n",
    "            if math.isclose(FTR, target_FTR, abs_tol = 0.0005):\n",
    "                TTR = np.sum((top1_scores[m] > TH) & (top1_scores[m+1] > TH)) / b\n",
    "                print('   FTR=%0.1f%%, TTR=%0.1f%%' % (FTR * 100, TTR * 100))\n",
    "                break"
   ]
  }
 ],
 "metadata": {
  "kernelspec": {
   "display_name": "Python 3",
   "language": "python",
   "name": "python3"
  },
  "language_info": {
   "codemirror_mode": {
    "name": "ipython",
    "version": 3
   },
   "file_extension": ".py",
   "mimetype": "text/x-python",
   "name": "python",
   "nbconvert_exporter": "python",
   "pygments_lexer": "ipython3",
   "version": "3.6.5"
  }
 },
 "nbformat": 4,
 "nbformat_minor": 2
}
