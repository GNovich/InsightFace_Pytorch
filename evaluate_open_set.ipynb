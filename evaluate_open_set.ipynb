{
 "cells": [
  {
   "cell_type": "code",
   "execution_count": 2,
   "metadata": {},
   "outputs": [],
   "source": [
    "import json\n",
    "import numpy as np\n",
    "import pandas as pd\n",
    "import os\n",
    "import math"
   ]
  },
  {
   "cell_type": "code",
   "execution_count": 3,
   "metadata": {},
   "outputs": [],
   "source": [
    "def load_scores(mat_path, matches_path):\n",
    "    n_queries = len(json.load(open(matches_path)))\n",
    "    mat = np.fromfile(mat_path, dtype=np.float32)[4:]\n",
    "    n_targets = len(mat) // n_queries\n",
    "    return mat.reshape(n_queries, n_targets)    "
   ]
  },
  {
   "cell_type": "code",
   "execution_count": 4,
   "metadata": {},
   "outputs": [],
   "source": [
    "def load_files(match_path, distractor_mat_path, prob_mat_path, features_path):\n",
    "    prob_features = json.load(open(features_path))\n",
    "    distractor_mat = load_scores(distractor_mat_path, match_path)\n",
    "    prob_mat = load_scores(prob_mat_path, match_path)\n",
    "    np.fill_diagonal(prob_mat, prob_mat.min() - 1) # self dist is not interesting!\n",
    "    prob_ids = np.array(prob_features['id'])\n",
    "    return prob_mat, distractor_mat, prob_ids"
   ]
  },
  {
   "cell_type": "code",
   "execution_count": 5,
   "metadata": {},
   "outputs": [],
   "source": [
    "def dist_fuse(mat_1, mat_2):\n",
    "    return (mat_1 + mat_2) / 2"
   ]
  },
  {
   "cell_type": "code",
   "execution_count": 6,
   "metadata": {},
   "outputs": [],
   "source": [
    "def top1(prob_mat, distractor_mat, prob_ids):\n",
    "    \"\"\" \n",
    "        is the target id in the top 1 (not including self image)\n",
    "        (prob_mat assuming diag is nan)\n",
    "        prob_ids are a ground truth of ids ordered probmat entries\n",
    "    \"\"\"\n",
    "    \n",
    "    out_max = np.max(distractor_mat, axis=1) # best out of distractor set\n",
    "    out_max_labels = np.argmax(distractor_mat, axis=1) # best out of distractor set\n",
    "    \n",
    "    np.fill_diagonal(prob_mat, prob_mat.min() - 1)\n",
    "    tot_mat = np.concatenate((prob_mat, out_max.reshape(prob_mat.shape[0], 1)), axis=1) # working with a small matrix :)\n",
    "    \n",
    "    top_scores = np.max(tot_mat, axis=1)\n",
    "    top_labels = np.argmax(tot_mat, axis=1) # indices\n",
    "    top_labels = np.where(top_labels < len(prob_ids), top_labels, -1) # safe indices\n",
    "    top_labels = np.where(top_labels > -1, prob_ids[top_labels], out_max_labels) # labels\n",
    "    \n",
    "    return top_labels, top_scores"
   ]
  },
  {
   "cell_type": "code",
   "execution_count": 7,
   "metadata": {},
   "outputs": [],
   "source": [
    "def topk(prob_mat, distractor_mat, prob_ids, k):\n",
    "    \"\"\" \n",
    "        is the target id in the top 1 (not including self image)\n",
    "        (prob_mat assuming diag is nan)\n",
    "        prob_ids are a ground truth of ids ordered probmat entries\n",
    "    \"\"\"\n",
    "    \n",
    "    tot_mat = np.concatenate((prob_mat, distractor_mat), axis=1) # working with a small matrix :)\n",
    "    out_max_k = -np.partition(-tot_mat, k, axis=1)[:, :k] # best out of distractor set\n",
    "    out_max_labels_k = np.argpartition(-tot_mat, k, axis=1)[:, :k] # best out of distractor set\n",
    "    safe_indices = np.where(out_max_labels_k < len(prob_ids), out_max_labels_k, -1)\n",
    "    out_max_labels_k = np.where(out_max_labels_k < len(prob_ids), prob_ids[safe_indices], out_max_labels_k)\n",
    "    \n",
    "    return out_max_labels_k, out_max_k"
   ]
  },
  {
   "cell_type": "code",
   "execution_count": 8,
   "metadata": {},
   "outputs": [],
   "source": [
    "def rank1_(prob_mat, distractor_mat, prob_ids):\n",
    "    \"\"\" \n",
    "        is the target id in the top 1 (not including self image)\n",
    "        (prob_mat assuming diag is nan)\n",
    "        prob_ids are a ground truth of ids ordered probmat entries\n",
    "    \"\"\"\n",
    "    \n",
    "    out_max = np.max(distractor_mat, axis=1) # best out of distractor set\n",
    "    tot_mat = np.concatenate((prob_mat, out_max.reshape(3506, 1)), axis=1) # working with a small matrix :)\n",
    "    n_probs = prob_mat.shape[1]\n",
    "    inf_ = tot_mat.min() - 1\n",
    "    score = 0\n",
    "    n_query = 0 \n",
    "    for query_id in set(prob_ids):\n",
    "        # probes from iden\n",
    "        row_mask = list((query_id == prob_ids))\n",
    "        curr_id_mat = tot_mat[row_mask, :]\n",
    "        \n",
    "        n_id_probs, n_probs_and_one_other = curr_id_mat.shape\n",
    "        query_indices = np.argwhere(row_mask).T[0]\n",
    "        for row_i, col_i in enumerate(query_indices):\n",
    "            # nullify all other cols from indices\n",
    "            col_mask = row_mask.copy()\n",
    "            col_mask[col_i] = False\n",
    "            col_mask.append(False)\n",
    "\n",
    "            other_probs_sub = curr_id_mat[: , col_mask].copy()\n",
    "            curr_id_mat[: , col_mask] = inf_\n",
    "\n",
    "            # calc hits\n",
    "            top_hits = np.delete(np.argmax(curr_id_mat, axis=1), row_i ,0)\n",
    "            top_id = np.where(top_hits < n_probs, top_hits, 0)\n",
    "            top_id = np.where(top_hits < n_probs, prob_ids[top_id], 'NaN')\n",
    "            score += sum(top_id == query_id)\n",
    "            n_query += len(top_id)\n",
    "\n",
    "            # get them back\n",
    "            curr_id_mat[:, col_mask] = other_probs_sub\n",
    "            \n",
    "    return score/n_query"
   ]
  },
  {
   "cell_type": "code",
   "execution_count": 9,
   "metadata": {},
   "outputs": [],
   "source": [
    "def open_set_label_and_score(prob_mat, distractor_mat, prob_ids):\n",
    "    \"\"\"\n",
    "         What is the 2nd iden for the prob if he is not in set?\n",
    "         What is it's score?\n",
    "    \"\"\"\n",
    "    \n",
    "    indexes = np.unique(prob_ids, return_index=True)[1]  # ids sorted by apperance\n",
    "    id_set = [prob_ids[index] for index in sorted(indexes)]\n",
    "    res_label = []\n",
    "    res_score = []\n",
    "    inf_ = min(distractor_mat.min(), prob_mat.min()) - 1\n",
    "    for curr_id in id_set:\n",
    "        # nullify all query cols from indices\n",
    "        row_mask = list((curr_id == prob_ids))\n",
    "        curr_prob_mat = prob_mat[row_mask, :].copy()\n",
    "        curr_prob_mat[: , row_mask] = inf_\n",
    "        \n",
    "        label, scores = top1(curr_prob_mat, distractor_mat[row_mask, :], prob_ids)\n",
    "        res_label.extend(label)\n",
    "        res_score.extend(scores)\n",
    "    return np.array(res_label), np.array(res_score)"
   ]
  },
  {
   "cell_type": "code",
   "execution_count": 10,
   "metadata": {},
   "outputs": [],
   "source": [
    "def open_set_label_and_score_topk(prob_mat, distractor_mat, prob_ids):\n",
    "    \"\"\"\n",
    "         What is the 2nd iden for the prob if he is not in set?\n",
    "         What is it's score?\n",
    "    \"\"\"\n",
    "    \n",
    "    indexes = np.unique(prob_ids, return_index=True)[1]  # ids sorted by apperance\n",
    "    id_set = [prob_ids[index] for index in sorted(indexes)]\n",
    "    res_label = []\n",
    "    res_score = []\n",
    "    inf_ = min(distractor_mat.min(), prob_mat.min()) - 1\n",
    "    for curr_id in id_set:\n",
    "        # nullify all query cols from indices\n",
    "        row_mask = list((curr_id == prob_ids))\n",
    "        curr_prob_mat = prob_mat[row_mask, :].copy()\n",
    "        curr_prob_mat[: , row_mask] = inf_\n",
    "        \n",
    "        label, scores = topk(curr_prob_mat, distractor_mat[row_mask, :], prob_ids, 3)\n",
    "        res_label.append(label)\n",
    "        res_score.append(scores)\n",
    "    return np.vstack(res_label), np.vstack(res_score)"
   ]
  },
  {
   "cell_type": "code",
   "execution_count": 11,
   "metadata": {},
   "outputs": [],
   "source": [
    "def model_agreement(prob_mat_0, distractor_mat_0, prob_mat_1, distractor_mat_1, prob_ids):\n",
    "    open_set_k_labels_0, open_set_k_scores_0  = open_set_label_and_score_topk(prob_mat_0, distractor_mat_0, prob_ids)\n",
    "    open_set_k_labels_1, open_set_k_scores_1 = open_set_label_and_score_topk(prob_mat_1, distractor_mat_1, prob_ids)\n",
    "\n",
    "    a = 0\n",
    "    for row_0, row_1 in zip(open_set_k_labels_0, open_set_k_labels_1):\n",
    "        a+= (len(np.intersect1d(row_0, row_1)) > 0)\n",
    "    b = len(prob_ids)\n",
    "    print('\\n any(2nd,3rd,4th) iden Corr=%0.1f%% \\n' % (100.0*a / b) )"
   ]
  },
  {
   "cell_type": "code",
   "execution_count": 117,
   "metadata": {},
   "outputs": [],
   "source": [
    "def fuse_models(prob_mat_0, distractor_mat_0, prob_mat_1, distractor_mat_1, prob_ids):\n",
    "    rank1_0 = rank1_(prob_mat_0, distractor_mat_0, prob_ids)\n",
    "    rank1_1 = rank1_(prob_mat_1, distractor_mat_1, prob_ids)\n",
    "    rank1_fuse = rank1_(dist_fuse(prob_mat_0,prob_mat_1), dist_fuse(distractor_mat_0, distractor_mat_1), prob_ids)\n",
    "    \n",
    "    print('Rank-1:\\n model0:{} \\n model1:{} \\n mean_fuse:{}'.format(rank1_0, rank1_1, rank1_fuse))\n",
    "    \n",
    "    top1_labels_0, top1_scores_0 = top1(prob_mat_0, distractor_mat_0, prob_ids)\n",
    "    top1_labels_1, top1_scores_1 = top1(prob_mat_1, distractor_mat_1, prob_ids)\n",
    "\n",
    "    open_set_1st_labels_0, open_set_1st_scores_0  = open_set_label_and_score(prob_mat_0, distractor_mat_0, prob_ids)\n",
    "    open_set_1st_labels_1, open_set_1st_scores_1 = open_set_label_and_score(prob_mat_1, distractor_mat_1, prob_ids)\n",
    "\n",
    "    model_agreement(prob_mat_0, distractor_mat_0, prob_mat_1, distractor_mat_1, prob_ids)\n",
    "    \n",
    "    a = np.sum((open_set_1st_labels_0 == open_set_1st_labels_1))\n",
    "    b = len(prob_ids)\n",
    "    print('\\n 2nd iden Corr=%0.1f%% \\n' % (100.0*a / b) )\n",
    "\n",
    "    target_FTRS = [0.0001, 0.01, 0.1, 0.2, 0.3]\n",
    "    thresholds = np.unique(np.concatenate((top1_scores_0,top1_scores_1,\n",
    "                                              open_set_1st_scores_0,open_set_1st_scores_1)))\n",
    "\n",
    "    models_agree = (open_set_1st_labels_0 == open_set_1st_labels_1)\n",
    "    FTRs = [np.sum(models_agree & (open_set_1st_scores_0 > TH) & (open_set_1st_scores_1 > TH)) / b\n",
    "            for TH in thresholds]\n",
    "    \n",
    "    mod_0_corr = (top1_labels_0 == prob_ids)\n",
    "    mod_1_corr = (top1_labels_1 == prob_ids)\n",
    "    TTRs = [np.sum( (top1_scores_0 > TH) &\n",
    "                    (top1_scores_1 > TH) &\n",
    "                     mod_0_corr &\n",
    "                     mod_1_corr ) / b for TH, FTR in zip(thresholds, FTRs)]\n",
    "\n",
    "    for target_FTR in target_FTRS:\n",
    "        if (FTRs[0] <= target_FTR):\n",
    "            print('FTR=%0.1f%%, TTR=%0.1f%%' % (target_FTR * 100, TTRs[0] * 100))\n",
    "            continue\n",
    "        for TH, FTR, TTR in zip(thresholds, FTRs, TTRs):\n",
    "            if math.isclose(FTR, target_FTR, abs_tol = 0.001):\n",
    "                print('FTR=%0.1f%%, TTR=%0.1f%%' % (FTR * 100, TTR * 100))\n",
    "                break\n",
    "        \n",
    "    return np.array(thresholds), np.array(FTRs), np.array(TTRs)"
   ]
  },
  {
   "cell_type": "code",
   "execution_count": 24,
   "metadata": {},
   "outputs": [
    {
     "name": "stdout",
     "output_type": "stream",
     "text": [
      "Rank-1:\n",
      " model0:0.9605785854746539 \n",
      " model1:0.9650261973578282 \n",
      " mean_fuse:0.9690448852463344\n",
      "\n",
      " any(2nd,3rd,4th) iden Corr=70.9% \n",
      "\n",
      "\n",
      " 2nd iden Corr=28.1% \n",
      "\n",
      "FTR=0.1%, TTR=98.8%\n",
      "FTR=1.0%, TTR=99.5%\n"
     ]
    }
   ],
   "source": [
    "# baseline\n",
    "match_path = \"results/baseline_0/matches_facescrub_megaface_images_base_0_1000000_1.json\"\n",
    "distractor_mat_path = \"results/baseline_0/otherFiles/facescrub_megaface_images_base_0_1000000_1.bin\"\n",
    "prob_mat_path = \"results/baseline_0/otherFiles/facescrub_facescrub_base_0.bin\"\n",
    "features_path = \"results/baseline_0/otherFiles/facescrub_features_base_0\"\n",
    "\n",
    "prob_mat_0, distractor_mat_0, prob_ids = load_files(match_path, distractor_mat_path, prob_mat_path, features_path)\n",
    "\n",
    "match_path = \"results/baseline_1/matches_facescrub_megaface_images_base_1_1000000_1.json\"\n",
    "distractor_mat_path = \"results/baseline_1/otherFiles/facescrub_megaface_images_base_1_1000000_1.bin\"\n",
    "prob_mat_path = \"results/baseline_1/otherFiles/facescrub_facescrub_base_1.bin\"\n",
    "features_path = \"results/baseline_1/otherFiles/facescrub_features_base_1\"\n",
    "\n",
    "prob_mat_1, distractor_mat_1, prob_ids = load_files(match_path, distractor_mat_path, prob_mat_path, features_path)\n",
    "baseline_thresholds, baseline_FTRs, baseline_TTR = fuse_models(prob_mat_0, distractor_mat_0, prob_mat_1, distractor_mat_1, prob_ids)"
   ]
  },
  {
   "cell_type": "code",
   "execution_count": 25,
   "metadata": {},
   "outputs": [
    {
     "name": "stdout",
     "output_type": "stream",
     "text": [
      "Rank-1:\n",
      " model0:0.9564939092792757 \n",
      " model1:0.9583481807023796 \n",
      " mean_fuse:0.9668210793047471\n",
      "\n",
      " any(2nd,3rd,4th) iden Corr=51.8% \n",
      "\n",
      "\n",
      " 2nd iden Corr=18.3% \n",
      "\n",
      "FTR=0.1%, TTR=99.2%\n",
      "FTR=1.1%, TTR=99.5%\n",
      "FTR=10.0%, TTR=99.7%\n"
     ]
    }
   ],
   "source": [
    "# pearson.5\n",
    "match_path = \"results/pearson.5_0/matches_facescrub_megaface_images_pearson_1000000_1.json\"\n",
    "distractor_mat_path = \"results/pearson.5_0/otherFiles/facescrub_megaface_images_pearson_1000000_1.bin\"\n",
    "prob_mat_path = \"results/pearson.5_0/otherFiles/facescrub_facescrub_pearson.bin\"\n",
    "features_path = \"results/pearson.5_0/otherFiles/facescrub_features_pearson\"\n",
    "\n",
    "prob_mat_0, distractor_mat_0, prob_ids = load_files(match_path, distractor_mat_path, prob_mat_path, features_path)\n",
    "\n",
    "match_path = \"results/pearson.5_1/matches_facescrub_megaface_images_pearson_1000000_1.json\"\n",
    "distractor_mat_path = \"results/pearson.5_1/otherFiles/facescrub_megaface_images_pearson_1000000_1.bin\"\n",
    "prob_mat_path = \"results/pearson.5_1/otherFiles/facescrub_facescrub_pearson.bin\"\n",
    "features_path = \"results/pearson.5_1/otherFiles/facescrub_features_pearson\"\n",
    "\n",
    "prob_mat_1, distractor_mat_1, prob_ids = load_files(match_path, distractor_mat_path, prob_mat_path, features_path)\n",
    "p5_thresholds, p5_FTRs, p5_TTR = fuse_models(prob_mat_0, distractor_mat_0, prob_mat_1, distractor_mat_1, prob_ids)"
   ]
  },
  {
   "cell_type": "code",
   "execution_count": 26,
   "metadata": {},
   "outputs": [
    {
     "name": "stdout",
     "output_type": "stream",
     "text": [
      "Rank-1:\n",
      " model0:0.9490042364493012 \n",
      " model1:0.9436855789154162 \n",
      " mean_fuse:0.9628551820617387\n",
      "\n",
      " any(2nd,3rd,4th) iden Corr=30.9% \n",
      "\n",
      "\n",
      " 2nd iden Corr=9.4% \n",
      "\n",
      "FTR=0.1%, TTR=99.1%\n",
      "FTR=1.1%, TTR=99.5%\n"
     ]
    }
   ],
   "source": [
    "# pearson.75\n",
    "match_path = \"results/pearson.75_0/matches_facescrub_megaface_images_pearson_1000000_1.json\"\n",
    "distractor_mat_path = \"results/pearson.75_0/otherFiles/facescrub_megaface_images_pearson_1000000_1.bin\"\n",
    "prob_mat_path = \"results/pearson.75_0/otherFiles/facescrub_facescrub_pearson.bin\"\n",
    "features_path = \"results/pearson.75_0/otherFiles/facescrub_features_pearson\"\n",
    "\n",
    "prob_mat_0, distractor_mat_0, prob_ids = load_files(match_path, distractor_mat_path, prob_mat_path, features_path)\n",
    "\n",
    "match_path = \"results/pearson.75_1/matches_facescrub_megaface_images_pearson_1000000_1.json\"\n",
    "distractor_mat_path = \"results/pearson.75_1/otherFiles/facescrub_megaface_images_pearson_1000000_1.bin\"\n",
    "prob_mat_path = \"results/pearson.75_1/otherFiles/facescrub_facescrub_pearson.bin\"\n",
    "features_path = \"results/pearson.75_1/otherFiles/facescrub_features_pearson\"\n",
    "\n",
    "prob_mat_1, distractor_mat_1, prob_ids = load_files(match_path, distractor_mat_path, prob_mat_path, features_path)\n",
    "p75_thresholds, p75_FTRs, p75_TTR = fuse_models(prob_mat_0, distractor_mat_0, prob_mat_1, distractor_mat_1, prob_ids)"
   ]
  },
  {
   "cell_type": "code",
   "execution_count": 21,
   "metadata": {},
   "outputs": [
    {
     "name": "stdout",
     "output_type": "stream",
     "text": [
      "Rank-1:\n",
      " model0:0.9089097411938605 \n",
      " model1:0.9263174565467 \n",
      " mean_fuse:0.9484367370102018\n",
      "\n",
      " any(2nd,3rd,4th) iden Corr=17.9% \n",
      "\n",
      "\n",
      " 2nd iden Corr=5.0% \n",
      "\n",
      "FTR=0.1%, TTR=98.9%\n",
      "FTR=0.9%, TTR=99.3%\n"
     ]
    }
   ],
   "source": [
    "# pearson.9\n",
    "match_path = \"results/pearson.9_0/matches_facescrub_megaface_images_pearson_1000000_1.json\"\n",
    "distractor_mat_path = \"results/pearson.9_0/otherFiles/facescrub_megaface_images_pearson_1000000_1.bin\"\n",
    "prob_mat_path = \"results/pearson.9_0/otherFiles/facescrub_facescrub_pearson.bin\"\n",
    "features_path = \"results/pearson.9_0/otherFiles/facescrub_features_pearson\"\n",
    "\n",
    "prob_mat_0, distractor_mat_0, prob_ids = load_files(match_path, distractor_mat_path, prob_mat_path, features_path)\n",
    "\n",
    "match_path = \"results/pearson.9_1/matches_facescrub_megaface_images_pearson_1000000_1.json\"\n",
    "distractor_mat_path = \"results/pearson.9_1/otherFiles/facescrub_megaface_images_pearson_1000000_1.bin\"\n",
    "prob_mat_path = \"results/pearson.9_1/otherFiles/facescrub_facescrub_pearson.bin\"\n",
    "features_path = \"results/pearson.9_1/otherFiles/facescrub_features_pearson\"\n",
    "\n",
    "prob_mat_1, distractor_mat_1, prob_ids = load_files(match_path, distractor_mat_path, prob_mat_path, features_path)\n",
    "p9_thresholds, p9_FTRs, p9_TTR = fuse_models(prob_mat_0, distractor_mat_0, prob_mat_1, distractor_mat_1, prob_ids)"
   ]
  },
  {
   "cell_type": "code",
   "execution_count": 107,
   "metadata": {},
   "outputs": [
    {
     "name": "stdout",
     "output_type": "stream",
     "text": [
      "Rank-1:\n",
      " model0:0.9603674228926634 \n",
      " model1:0.959113645062095 \n",
      " mean_fuse:0.9667880851513112\n",
      "\n",
      " any(2nd,3rd,4th) iden Corr=62.2% \n",
      "\n",
      "\n",
      " 2nd iden Corr=23.7% \n",
      "\n",
      "FTR=0.1%, TTR=99.2%\n",
      "FTR=1.1%, TTR=99.5%\n",
      "FTR=10.1%, TTR=99.7%\n",
      "FTR=20.1%, TTR=99.7%\n",
      "FTR=30.0%, TTR=99.7%\n"
     ]
    }
   ],
   "source": [
    "# mean.1\n",
    "match_path = \"results/mean.1_0/matches_facescrub_megaface_images_mean_1000000_1.json\"\n",
    "distractor_mat_path = \"results/mean.1_0/otherFiles/facescrub_megaface_images_mean_1000000_1.bin\"\n",
    "prob_mat_path = \"results/mean.1_0/otherFiles/facescrub_facescrub_mean.bin\"\n",
    "features_path = \"results/mean.1_0/otherFiles/facescrub_features_mean\"\n",
    "\n",
    "prob_mat_0, distractor_mat_0, prob_ids = load_files(match_path, distractor_mat_path, prob_mat_path, features_path)\n",
    "\n",
    "match_path = \"results/mean.1_1/matches_facescrub_megaface_images_mean_1000000_1.json\"\n",
    "distractor_mat_path = \"results/mean.1_1/otherFiles/facescrub_megaface_images_mean_1000000_1.bin\"\n",
    "prob_mat_path = \"results/mean.1_1/otherFiles/facescrub_facescrub_mean.bin\"\n",
    "features_path = \"results/mean.1_1/otherFiles/facescrub_features_mean\"\n",
    "\n",
    "prob_mat_1, distractor_mat_1, prob_ids = load_files(match_path, distractor_mat_path, prob_mat_path, features_path)\n",
    "m1_thresholds, m1_FTRs, m1_TTR = fuse_models(prob_mat_0, distractor_mat_0, prob_mat_1, distractor_mat_1, prob_ids)"
   ]
  },
  {
   "cell_type": "code",
   "execution_count": 108,
   "metadata": {},
   "outputs": [
    {
     "name": "stdout",
     "output_type": "stream",
     "text": [
      "Rank-1:\n",
      " model0:0.9579720473532091 \n",
      " model1:0.9558010320571195 \n",
      " mean_fuse:0.9672566021301026\n",
      "\n",
      " any(2nd,3rd,4th) iden Corr=50.1% \n",
      "\n",
      "\n",
      " 2nd iden Corr=18.0% \n",
      "\n",
      "FTR=0.1%, TTR=98.9%\n",
      "FTR=1.1%, TTR=99.5%\n",
      "FTR=10.1%, TTR=99.7%\n",
      "FTR=20.0%, TTR=99.7%\n",
      "FTR=30.0%, TTR=99.7%\n"
     ]
    }
   ],
   "source": [
    "# mean.25\n",
    "match_path = \"results/mean.25_0/matches_facescrub_megaface_images_mean_1000000_1.json\"\n",
    "distractor_mat_path = \"results/mean.25_0/otherFiles/facescrub_megaface_images_mean_1000000_1.bin\"\n",
    "prob_mat_path = \"results/mean.25_0/otherFiles/facescrub_facescrub_mean.bin\"\n",
    "features_path = \"results/mean.25_0/otherFiles/facescrub_features_mean\"\n",
    "\n",
    "prob_mat_0, distractor_mat_0, prob_ids = load_files(match_path, distractor_mat_path, prob_mat_path, features_path)\n",
    "\n",
    "match_path = \"results/mean.25_1/matches_facescrub_megaface_images_mean_1000000_1.json\"\n",
    "distractor_mat_path = \"results/mean.25_1/otherFiles/facescrub_megaface_images_mean_1000000_1.bin\"\n",
    "prob_mat_path = \"results/mean.25_1/otherFiles/facescrub_facescrub_mean.bin\"\n",
    "features_path = \"results/mean.25_1/otherFiles/facescrub_features_mean\"\n",
    "\n",
    "prob_mat_1, distractor_mat_1, prob_ids = load_files(match_path, distractor_mat_path, prob_mat_path, features_path)\n",
    "m25_thresholds, m25_FTRs, m25_TTR = fuse_models(prob_mat_0, distractor_mat_0, prob_mat_1, distractor_mat_1, prob_ids)"
   ]
  },
  {
   "cell_type": "code",
   "execution_count": 109,
   "metadata": {},
   "outputs": [
    {
     "name": "stdout",
     "output_type": "stream",
     "text": [
      "Rank-1:\n",
      " model0:0.9469783954283301 \n",
      " model1:0.944464240936506 \n",
      " mean_fuse:0.9702326747700307\n",
      "\n",
      " any(2nd,3rd,4th) iden Corr=15.3% \n",
      "\n",
      "\n",
      " 2nd iden Corr=4.2% \n",
      "\n",
      "FTR=0.1%, TTR=99.3%\n",
      "FTR=1.1%, TTR=99.6%\n",
      "FTR=10.0%, TTR=99.7%\n",
      "FTR=20.0%, TTR=99.7%\n",
      "FTR=30.0%, TTR=99.7%\n"
     ]
    }
   ],
   "source": [
    "# mean.5\n",
    "match_path = \"results/mean.5_0/matches_facescrub_megaface_images_mean_1000000_1.json\"\n",
    "distractor_mat_path = \"results/mean.5_0/otherFiles/facescrub_megaface_images_mean_1000000_1.bin\"\n",
    "prob_mat_path = \"results/mean.5_0/otherFiles/facescrub_facescrub_mean.bin\"\n",
    "features_path = \"results/mean.5_0/otherFiles/facescrub_features_mean\"\n",
    "\n",
    "prob_mat_0, distractor_mat_0, prob_ids = load_files(match_path, distractor_mat_path, prob_mat_path, features_path)\n",
    "\n",
    "match_path = \"results/mean.5_1/matches_facescrub_megaface_images_mean_1000000_1.json\"\n",
    "distractor_mat_path = \"results/mean.5_1/otherFiles/facescrub_megaface_images_mean_1000000_1.bin\"\n",
    "prob_mat_path = \"results/mean.5_1/otherFiles/facescrub_facescrub_mean.bin\"\n",
    "features_path = \"results/mean.5_1/otherFiles/facescrub_features_mean\"\n",
    "\n",
    "prob_mat_1, distractor_mat_1, prob_ids = load_files(match_path, distractor_mat_path, prob_mat_path, features_path)\n",
    "m5_thresholds, m5_FTRs, m5_TTR = fuse_models(prob_mat_0, distractor_mat_0, prob_mat_1, distractor_mat_1, prob_ids)"
   ]
  },
  {
   "cell_type": "code",
   "execution_count": 17,
   "metadata": {},
   "outputs": [],
   "source": [
    "import matplotlib.pylab as plt\n",
    "import matplotlib\n",
    "%matplotlib inline"
   ]
  },
  {
   "cell_type": "code",
   "execution_count": 119,
   "metadata": {},
   "outputs": [
    {
     "data": {
      "text/plain": [
       "Text(0.5,1,'Open set DIR')"
      ]
     },
     "execution_count": 119,
     "metadata": {},
     "output_type": "execute_result"
    },
    {
     "data": {
      "image/png": "[encoded data removed]",
      "text/plain": [
       "<Figure size 432x288 with 1 Axes>"
      ]
     },
     "metadata": {},
     "output_type": "display_data"
    }
   ],
   "source": [
    "# TODO flip axis?\n",
    "# TODO add a dash line for cieling?\n",
    "plt.plot(p9_FTRs, p9_TTR, label='p.9')\n",
    "plt.plot(p75_FTRs, p75_TTR, label='p.75')\n",
    "plt.plot(p5_FTRs, p5_TTR, label='p.5')\n",
    "\n",
    "plt.plot(m1_FTRs, m1_TTR, label='m.1')\n",
    "plt.plot(m25_FTRs, m25_TTR, label='m.25')\n",
    "plt.plot(m5_FTRs, m5_TTR, label='m.5')\n",
    "\n",
    "plt.plot(baseline_FTRs, baseline_TTR, label='baseline')\n",
    "plt.xlabel('FTR')\n",
    "plt.ylabel('TTR')\n",
    "plt.ylim([.985, 1])\n",
    "plt.xscale('log')\n",
    "plt.xlim([1e-5, .5])\n",
    "plt.legend()\n",
    "plt.title('Open set DIR')"
   ]
  },
  {
   "cell_type": "code",
   "execution_count": 104,
   "metadata": {},
   "outputs": [
    {
     "name": "stderr",
     "output_type": "stream",
     "text": [
      "No handles with labels found to put in legend.\n"
     ]
    },
    {
     "data": {
      "text/plain": [
       "<matplotlib.legend.Legend at 0x7f0713ec7240>"
      ]
     },
     "execution_count": 104,
     "metadata": {},
     "output_type": "execute_result"
    },
    {
     "data": {
      "image/png": "[encoded data removed]",
      "text/plain": [
       "<Figure size 432x288 with 1 Axes>"
      ]
     },
     "metadata": {},
     "output_type": "display_data"
    }
   ],
   "source": [
    "plt.plot(FTRs, TTRs)\n",
    "plt.xlabel('FTR')\n",
    "plt.ylabel('TTR')\n",
    "plt.ylim([.985, 1])\n",
    "plt.xscale('log')\n",
    "plt.legend()"
   ]
  },
  {
   "cell_type": "code",
   "execution_count": null,
   "metadata": {},
   "outputs": [],
   "source": []
  }
 ],
 "metadata": {
  "kernelspec": {
   "display_name": "Python 3",
   "language": "python",
   "name": "python3"
  },
  "language_info": {
   "codemirror_mode": {
    "name": "ipython",
    "version": 3
   },
   "file_extension": ".py",
   "mimetype": "text/x-python",
   "name": "python",
   "nbconvert_exporter": "python",
   "pygments_lexer": "ipython3",
   "version": "3.6.5"
  }
 },
 "nbformat": 4,
 "nbformat_minor": 2
}
